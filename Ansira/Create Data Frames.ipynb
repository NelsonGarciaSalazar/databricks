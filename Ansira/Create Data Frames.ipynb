{
 "cells": [
  {
   "cell_type": "markdown",
   "metadata": {
    "application/vnd.databricks.v1+cell": {
     "cellMetadata": {
      "byteLimit": 2048000,
      "rowLimit": 10000
     },
     "inputWidgets": {},
     "nuid": "c6dbf6b0-3039-44aa-a3de-8a38f60734e6",
     "showTitle": false,
     "tableResultSettingsMap": {},
     "title": ""
    }
   },
   "source": [
    "Create Schemas for tables"
   ]
  },
  {
   "cell_type": "code",
   "execution_count": 0,
   "metadata": {
    "application/vnd.databricks.v1+cell": {
     "cellMetadata": {
      "byteLimit": 2048000,
      "rowLimit": 10000
     },
     "inputWidgets": {},
     "nuid": "5e9475f4-a79e-4607-885b-1726bb6b6031",
     "showTitle": false,
     "tableResultSettingsMap": {},
     "title": ""
    }
   },
   "outputs": [],
   "source": [
    "import pyspark.sql.functions as F\n",
    "import pyspark.sql.types as T\n",
    "from datetime import date\n",
    "\n",
    "customer_schema = T.StructType(\n",
    "        [\n",
    "            T.StructField(\"customer_id\", T.IntegerType()),\n",
    "            T.StructField(\"full_name\", T.StringType()),\n",
    "            T.StructField(\"address\", T.StringType()),\n",
    "            T.StructField(\"state\", T.StringType()),\n",
    "            T.StructField(\"country\", T.StringType())\n",
    "        ]    \n",
    ")\n",
    "\n",
    "order_schema = T.StructType(\n",
    "        [\n",
    "            T.StructField(\"order_id\", T.IntegerType()),\n",
    "            T.StructField(\"customer_id\", T.IntegerType()),\n",
    "            T.StructField(\"order_date\", T.DateType()),\n",
    "            T.StructField(\"amount\", T.DoubleType()),\n",
    "        ]    \n",
    ")\n",
    "\n",
    "item_schema = T.StructType(\n",
    "        [\n",
    "            T.StructField(\"item_id\", T.IntegerType()),\n",
    "            T.StructField(\"order_id\", T.IntegerType()),\n",
    "            T.StructField(\"product_id\", T.IntegerType()),\n",
    "            T.StructField(\"unique_price\", T.IntegerType()),\n",
    "            T.StructField(\"quantity\", T.IntegerType())       \n",
    "        ]    \n",
    ")\n",
    "\n",
    "product_schema = T.StructType(\n",
    "        [\n",
    "            T.StructField(\"product_id\", T.IntegerType()),\n",
    "            T.StructField(\"name\", T.StringType()),\n",
    "            T.StructField(\"price\", T.IntegerType()),\n",
    "            T.StructField(\"category\", T.StringType())\n",
    "        ]    \n",
    ")"
   ]
  },
  {
   "cell_type": "markdown",
   "metadata": {
    "application/vnd.databricks.v1+cell": {
     "cellMetadata": {
      "byteLimit": 2048000,
      "rowLimit": 10000
     },
     "inputWidgets": {},
     "nuid": "2044eaa3-f4a4-4fa6-bb35-d990d92976e6",
     "showTitle": false,
     "tableResultSettingsMap": {},
     "title": ""
    }
   },
   "source": [
    "Datos"
   ]
  },
  {
   "cell_type": "code",
   "execution_count": 0,
   "metadata": {
    "application/vnd.databricks.v1+cell": {
     "cellMetadata": {
      "byteLimit": 2048000,
      "rowLimit": 10000
     },
     "inputWidgets": {},
     "nuid": "9b6b296b-0acf-4ca6-94d5-97511a1782dc",
     "showTitle": false,
     "tableResultSettingsMap": {},
     "title": ""
    }
   },
   "outputs": [],
   "source": [
    "customers = [\n",
    "    (1, \"John Smith\", \"123 Palm Ave\", \"Florida\", \"USA\"),\n",
    "    (2, \"Alice Johnson\", \"456 Ocean Dr\", \"Florida\", \"USA\"),\n",
    "    (3, \"Bob Brown\", \"789 Sunset Blvd\", \"California\", \"USA\"),\n",
    "    (4, \"Maria Lopez\", \"321 Main St\", \"Texas\", \"USA\")\n",
    "]\n",
    "\n",
    "products = [\n",
    "    (1, \"Toy Car\", 15.00, \"Toys\"),\n",
    "    (2, \"Lego Set\", 50.00, \"Toys\"),\n",
    "    (3, \"Doll\", 25.00, \"Toys\"),\n",
    "    (4, \"Laptop\", 1000.00, \"Electronics\"),\n",
    "    (5, \"Headphones\", 200.00, \"Electronics\"),\n",
    "    (6, \"Book\", 20.00, \"Books\")\n",
    "]\n",
    "\n",
    "orders = [\n",
    "    (1, 1, date(2018, 3, 15), 100.00),\n",
    "    (2, 1, date(2019, 7, 22), 200.00),\n",
    "    (3, 2, date(2018, 11, 5), 300.00),\n",
    "    (4, 2, date(2019, 2, 14), 150.00),\n",
    "    (5, 3, date(2019, 5, 10), 500.00),\n",
    "    (6, 4, date(2018, 8, 19), 250.00)\n",
    "]\n",
    "\n",
    "items = [\n",
    "    (1, 1, 1, 15.00, 2),\n",
    "    (2, 1, 6, 20.00, 1),\n",
    "    (3, 2, 2, 50.00, 2),\n",
    "    (4, 2, 3, 25.00, 1),\n",
    "    (5, 3, 2, 50.00, 3),\n",
    "    (6, 3, 4, 1000.00, 1),\n",
    "    (7, 4, 1, 15.00, 5),\n",
    "    (8, 4, 5, 200.00, 1),\n",
    "    (9, 5, 4, 1000.00, 1),\n",
    "    (10, 5, 6, 20.00, 2),\n",
    "    (11, 6, 3, 25.00, 2),\n",
    "    (12, 6, 6, 20.00, 3)\n",
    "]"
   ]
  },
  {
   "cell_type": "markdown",
   "metadata": {
    "application/vnd.databricks.v1+cell": {
     "cellMetadata": {
      "byteLimit": 2048000,
      "rowLimit": 10000
     },
     "inputWidgets": {},
     "nuid": "75b8b3bb-6f88-4535-9a07-fd2460198b46",
     "showTitle": false,
     "tableResultSettingsMap": {},
     "title": ""
    }
   },
   "source": [
    "Create Daframes"
   ]
  },
  {
   "cell_type": "code",
   "execution_count": 0,
   "metadata": {
    "application/vnd.databricks.v1+cell": {
     "cellMetadata": {
      "byteLimit": 2048000,
      "rowLimit": 10000
     },
     "inputWidgets": {},
     "nuid": "fbdfde72-75a5-42d1-b1c0-8478d741c946",
     "showTitle": false,
     "tableResultSettingsMap": {},
     "title": ""
    }
   },
   "outputs": [],
   "source": [
    "df_customers = spark.createDataFrame(customers, customer_schema)\n",
    "df_customers.show(10, False)\n",
    "\n",
    "df_orders = spark.createDataFrame(orders, order_schema)\n",
    "df_orders.show(12, False)\n",
    "\n",
    "df_items = spark.createDataFrame(items, item_schema)\n",
    "df_items.show(10, False)\n",
    "\n",
    "df_products = spark.createDataFrame(products, product_schema)\n",
    "df_products.show(10, False)"
   ]
  },
  {
   "cell_type": "markdown",
   "metadata": {
    "application/vnd.databricks.v1+cell": {
     "cellMetadata": {
      "byteLimit": 2048000,
      "rowLimit": 10000
     },
     "inputWidgets": {},
     "nuid": "532cd9aa-81af-4f1c-8391-224ae248af96",
     "showTitle": false,
     "tableResultSettingsMap": {},
     "title": ""
    }
   },
   "source": [
    "Registrar las tablas temporales (SQL oppcional)"
   ]
  },
  {
   "cell_type": "code",
   "execution_count": 0,
   "metadata": {
    "application/vnd.databricks.v1+cell": {
     "cellMetadata": {
      "byteLimit": 2048000,
      "rowLimit": 10000
     },
     "inputWidgets": {},
     "nuid": "711d6c6d-39f2-42ec-95bf-f0e8a1b0a076",
     "showTitle": false,
     "tableResultSettingsMap": {},
     "title": ""
    }
   },
   "outputs": [],
   "source": [
    "df_customers.createOrReplaceTempView(\"Customer\")\n",
    "df_orders.createOrReplaceTempView(\"Order\")\n",
    "df_products.createOrReplaceTempView(\"Product\")\n",
    "df_items.createOrReplaceTempView(\"Item\")"
   ]
  },
  {
   "cell_type": "markdown",
   "metadata": {
    "application/vnd.databricks.v1+cell": {
     "cellMetadata": {
      "byteLimit": 2048000,
      "rowLimit": 10000
     },
     "inputWidgets": {},
     "nuid": "a9e55510-8360-4314-96d2-da9c59d33a45",
     "showTitle": false,
     "tableResultSettingsMap": {},
     "title": ""
    }
   },
   "source": [
    "Crear tablas en el Metasktore (schema and bronze volumen Ansira)"
   ]
  },
  {
   "cell_type": "code",
   "execution_count": 0,
   "metadata": {
    "application/vnd.databricks.v1+cell": {
     "cellMetadata": {
      "byteLimit": 2048000,
      "rowLimit": 10000
     },
     "inputWidgets": {},
     "nuid": "65063fc8-a56f-4737-8a8e-5414819488c6",
     "showTitle": false,
     "tableResultSettingsMap": {},
     "title": ""
    }
   },
   "outputs": [],
   "source": [
    "ansira_path_bronze = \"/Volumes/workspace/ansira/bronze/\"\n",
    "bronze_table_customer = \"ansira.customer\"\n",
    "\n",
    "# Guardar como Delta en broze\n",
    "df_customers.write.format(\"delta\").mode(\"overwrite\").save(ansira_path_bronze + \"customer\")\n",
    "\n",
    "spark.sql(f\"DROP TABLE IF EXISTS {bronze_table_customer}\")\n",
    "spark.sql(f\"CREATE TABLE {bronze_table_customer} AS SELECT * FROM Customer\")\n",
    "\n",
    "spark.sql(f\"SELECT * FROM {bronze_table_customer}\").show()"
   ]
  },
  {
   "cell_type": "code",
   "execution_count": 0,
   "metadata": {
    "application/vnd.databricks.v1+cell": {
     "cellMetadata": {
      "byteLimit": 2048000,
      "rowLimit": 10000
     },
     "inputWidgets": {},
     "nuid": "7154be5e-cb5c-4d45-964c-4f48f3c22add",
     "showTitle": false,
     "tableResultSettingsMap": {},
     "title": ""
    }
   },
   "outputs": [],
   "source": [
    "bronze_table_order = \"ansira.order\"\n",
    "\n",
    "# Guardar como Delta en broze\n",
    "df_customers.write.format(\"delta\").mode(\"overwrite\").save(ansira_path_bronze + \"order\")\n",
    "\n",
    "spark.sql(f\"DROP TABLE IF EXISTS {bronze_table_order}\")\n",
    "spark.sql(f\"CREATE TABLE {bronze_table_order} AS SELECT * FROM order\")\n",
    "\n",
    "spark.sql(f\"SELECT * FROM {bronze_table_order}\").show()"
   ]
  },
  {
   "cell_type": "code",
   "execution_count": 0,
   "metadata": {
    "application/vnd.databricks.v1+cell": {
     "cellMetadata": {
      "byteLimit": 2048000,
      "rowLimit": 10000
     },
     "inputWidgets": {},
     "nuid": "bdfc909a-a7df-4d4f-93fb-396025e2378f",
     "showTitle": false,
     "tableResultSettingsMap": {},
     "title": ""
    }
   },
   "outputs": [],
   "source": [
    "bronze_table_item = \"ansira.item\"\n",
    "\n",
    "# Guardar como Delta en broze\n",
    "df_customers.write.format(\"delta\").mode(\"overwrite\").save(ansira_path_bronze + \"item\")\n",
    "\n",
    "spark.sql(f\"DROP TABLE IF EXISTS {bronze_table_item}\")\n",
    "spark.sql(f\"CREATE TABLE {bronze_table_item} AS SELECT * FROM item\")\n",
    "\n",
    "spark.sql(f\"SELECT * FROM {bronze_table_item}\").show()"
   ]
  },
  {
   "cell_type": "code",
   "execution_count": 0,
   "metadata": {
    "application/vnd.databricks.v1+cell": {
     "cellMetadata": {
      "byteLimit": 2048000,
      "rowLimit": 10000
     },
     "inputWidgets": {},
     "nuid": "c3115752-8103-4f6a-854a-393649c611e6",
     "showTitle": false,
     "tableResultSettingsMap": {},
     "title": ""
    }
   },
   "outputs": [],
   "source": [
    "bronze_table_product = \"ansira.product\"\n",
    "\n",
    "# Guardar como Delta en broze\n",
    "df_customers.write.format(\"delta\").mode(\"overwrite\").save(ansira_path_bronze + \"product\")\n",
    "\n",
    "spark.sql(f\"DROP TABLE IF EXISTS {bronze_table_product}\")\n",
    "spark.sql(f\"CREATE TABLE {bronze_table_product} AS SELECT * FROM product\")\n",
    "\n",
    "spark.sql(f\"SELECT * FROM {bronze_table_product}\").show()"
   ]
  }
 ],
 "metadata": {
  "application/vnd.databricks.v1+notebook": {
   "computePreferences": null,
   "dashboards": [],
   "environmentMetadata": {
    "base_environment": "",
    "environment_version": "3"
   },
   "inputWidgetPreferences": null,
   "language": "python",
   "notebookMetadata": {
    "pythonIndentUnit": 4
   },
   "notebookName": "Create Data Frames",
   "widgets": {}
  },
  "language_info": {
   "name": "python"
  }
 },
 "nbformat": 4,
 "nbformat_minor": 0
}
