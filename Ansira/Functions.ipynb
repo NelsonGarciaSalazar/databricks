{
 "cells": [
  {
   "cell_type": "code",
   "execution_count": 0,
   "metadata": {
    "application/vnd.databricks.v1+cell": {
     "cellMetadata": {
      "byteLimit": 2048000,
      "rowLimit": 10000
     },
     "inputWidgets": {},
     "nuid": "c40c60a0-1441-4123-876f-6d4ee36dd8f4",
     "showTitle": false,
     "tableResultSettingsMap": {},
     "title": ""
    }
   },
   "outputs": [],
   "source": [
    "from pyspark.sql import SparkSession\n",
    "from pyspark.sql.types import StructType, StructField, StringType, IntegerType, FloatType, DateType\n",
    "from pyspark.sql import functions as F\n",
    "from datetime import date\n",
    "\n",
    "# Crear una SparkSession\n",
    "spark = SparkSession.builder.appName(\"senior_data_engineer_challenge\").getOrCreate()\n",
    "\n",
    "# Definir el esquema del DataFrame\n",
    "schema = StructType([\n",
    "    StructField(\"transaction_id\", StringType(), True),\n",
    "    StructField(\"customer_id\", StringType(), True),\n",
    "    StructField(\"product_id\", StringType(), True),\n",
    "    StructField(\"quantity\", IntegerType(), True),\n",
    "    StructField(\"price_per_unit\", FloatType(), True),\n",
    "    StructField(\"transaction_date\", DateType(), True),\n",
    "    StructField(\"store_location\", StringType(), True)\n",
    "])\n",
    "\n",
    "# Datos de ejemplo\n",
    "data = [\n",
    "    (\"T001\", \"C101\", \"P101\", 2, 10.50, date(2024, 1, 5), \"New York\"),\n",
    "    (\"T002\", \"C102\", \"P102\", 1, 25.00, date(2024, 1, 5), \"Los Angeles\"),\n",
    "    (\"T003\", \"C101\", \"P103\", 5, 5.00, date(2024, 1, 6), \"New York\"),\n",
    "    (\"T004\", \"C103\", \"P101\", 3, 10.50, date(2024, 1, 7), \"Chicago\"),\n",
    "    (\"T005\", \"C102\", \"P104\", 1, 50.00, date(2024, 1, 7), \"Los Angeles\"),\n",
    "    (\"T006\", \"C101\", \"P102\", 4, 25.00, date(2024, 1, 8), \"New York\"),\n",
    "    (\"T007\", \"C104\", \"P103\", 10, 5.00, date(2024, 1, 8), \"New York\"),\n",
    "    (\"T008\", \"C105\", \"P105\", 2, 75.00, date(2024, 1, 9), \"Chicago\"),\n",
    "    (\"T009\", \"C103\", \"P102\", 1, 25.00, date(2024, 1, 9), \"Chicago\"),\n",
    "    (\"T010\", \"C101\", \"P101\", 1, 10.50, date(2024, 1, 10), \"New York\")\n",
    "]\n",
    "\n",
    "# Crear el DataFrame\n",
    "df = spark.createDataFrame(data, schema=schema)\n",
    "#df = df.withColumn(\"transaction_date\", F.to_date(F.col(\"transaction_date\"), \"yyyy-MM-dd\"))\n",
    "\n",
    "df.show()"
   ]
  },
  {
   "cell_type": "markdown",
   "metadata": {
    "application/vnd.databricks.v1+cell": {
     "cellMetadata": {
      "byteLimit": 2048000,
      "rowLimit": 10000
     },
     "inputWidgets": {},
     "nuid": "849c8339-4fa6-489d-bc78-5b16b0eb9d1b",
     "showTitle": false,
     "tableResultSettingsMap": {},
     "title": ""
    }
   },
   "source": [
    "1. Tarea 1: Operaciones Básicas y Manipulación de Columnas\n",
    "- Objetivo: Calcular el valor total de cada transacción y crear una columna que clasifique la transacción como \"Small\", \"Medium\" o \"Large\" basada en el valor total."
   ]
  },
  {
   "cell_type": "code",
   "execution_count": 0,
   "metadata": {
    "application/vnd.databricks.v1+cell": {
     "cellMetadata": {
      "byteLimit": 2048000,
      "rowLimit": 10000
     },
     "inputWidgets": {},
     "nuid": "e8070a4f-37f6-4e49-aded-3ab0c24958cb",
     "showTitle": false,
     "tableResultSettingsMap": {},
     "title": ""
    }
   },
   "outputs": [],
   "source": [
    "df_total_transactions = (\n",
    "    df.withColumn(\"total_value\", F.col(\"quantity\") * F.col(\"price_per_unit\"))\n",
    "      .withColumn(\"transaction_size\",\n",
    "        F.when(F.col(\"total_value\") <= 40, \"Small\")\n",
    "          .when((F.col(\"total_value\") > 40) & (F.col(\"total_value\") <= 70), \"Medium\")\n",
    "          .otherwise(\"Large\")\n",
    "      )\n",
    ").show()"
   ]
  },
  {
   "cell_type": "markdown",
   "metadata": {
    "application/vnd.databricks.v1+cell": {
     "cellMetadata": {},
     "inputWidgets": {},
     "nuid": "b0c4d661-810f-470d-9433-4cd19163024f",
     "showTitle": false,
     "tableResultSettingsMap": {},
     "title": ""
    }
   },
   "source": [
    "2. Tarea 2: Agregaciones y Filtrado\n",
    "- Objetivo: Encontrar la cantidad total vendida de cada producto y filtrar para mostrar solo los productos cuya venta total supera las 10 unidades."
   ]
  },
  {
   "cell_type": "code",
   "execution_count": 0,
   "metadata": {
    "application/vnd.databricks.v1+cell": {
     "cellMetadata": {
      "byteLimit": 2048000,
      "rowLimit": 10000
     },
     "inputWidgets": {},
     "nuid": "e86dbbc8-eeaa-4126-86e4-034db7e29dad",
     "showTitle": false,
     "tableResultSettingsMap": {},
     "title": ""
    }
   },
   "outputs": [],
   "source": [
    "df_product_sales = (\n",
    "        df.groupBy(\"quantity\")\n",
    "          .agg(\n",
    "              F.sum(F.col(\"quantity\")).alias(\"total_quantity_sold\"),\n",
    "              F.count(\"*\").alias(\"number_of_transactions\")\n",
    "          )\n",
    ").show()\n"
   ]
  }
 ],
 "metadata": {
  "application/vnd.databricks.v1+notebook": {
   "computePreferences": null,
   "dashboards": [],
   "environmentMetadata": {
    "base_environment": "",
    "environment_version": "3"
   },
   "inputWidgetPreferences": null,
   "language": "python",
   "notebookMetadata": {
    "pythonIndentUnit": 4
   },
   "notebookName": "Functions",
   "widgets": {}
  },
  "language_info": {
   "name": "python"
  }
 },
 "nbformat": 4,
 "nbformat_minor": 0
}
