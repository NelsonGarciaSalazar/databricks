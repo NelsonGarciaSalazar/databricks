{
 "cells": [
  {
   "cell_type": "markdown",
   "metadata": {
    "application/vnd.databricks.v1+cell": {
     "cellMetadata": {
      "byteLimit": 2048000,
      "rowLimit": 10000
     },
     "inputWidgets": {},
     "nuid": "e36d93bf-9563-47a1-bee4-1d5f185e7e3f",
     "showTitle": false,
     "tableResultSettingsMap": {},
     "title": ""
    }
   },
   "source": [
    "Create dataframes from Tables"
   ]
  },
  {
   "cell_type": "code",
   "execution_count": 0,
   "metadata": {
    "application/vnd.databricks.v1+cell": {
     "cellMetadata": {
      "byteLimit": 2048000,
      "rowLimit": 10000
     },
     "inputWidgets": {},
     "nuid": "099a00d9-dc9b-4f3c-ba0a-f240689b384a",
     "showTitle": false,
     "tableResultSettingsMap": {},
     "title": ""
    }
   },
   "outputs": [],
   "source": [
    "df_customers = spark.read.table(\"ansira.customer\")\n",
    "df_customers.show()\n",
    "\n",
    "df_items = spark.read.table(\"ansira.item\")\n",
    "df_items.show()\n",
    "\n",
    "df_products = spark.read.table(\"ansira.product\")\n",
    "df_products.show()\n",
    "\n",
    "df_orders = spark.read.table(\"ansira.order\")\n",
    "df_orders.show()\n",
    "\n",
    "df_products = spark.read.table(\"ansira.product\")\n",
    "df_products.show()"
   ]
  },
  {
   "cell_type": "markdown",
   "metadata": {
    "application/vnd.databricks.v1+cell": {
     "cellMetadata": {
      "byteLimit": 2048000,
      "rowLimit": 10000
     },
     "inputWidgets": {},
     "nuid": "da7bc85b-2633-4985-b570-165d69c39bcf",
     "showTitle": false,
     "tableResultSettingsMap": {},
     "title": ""
    }
   },
   "source": [
    "# Querys\n",
    "1.  List Florida customers \n",
    " * Write a SQL query to return all customers in the state of \"Florida\" \n",
    " * sorted in alphabetical order"
   ]
  },
  {
   "cell_type": "code",
   "execution_count": 0,
   "metadata": {
    "application/vnd.databricks.v1+cell": {
     "cellMetadata": {
      "byteLimit": 2048000,
      "rowLimit": 10000
     },
     "inputWidgets": {},
     "nuid": "6ece5578-137c-4664-8921-31dc9cd49bac",
     "showTitle": false,
     "tableResultSettingsMap": {},
     "title": ""
    }
   },
   "outputs": [],
   "source": [
    "import pyspark.sql.functions as F\n",
    "df_customers_florida = (df_customers.filter(F.col(\"state\") == \"Florida\")\n",
    "                                    .orderBy(F.col(\"customer_id\"))\n",
    ")\n",
    "df_customers_florida.show()"
   ]
  },
  {
   "cell_type": "markdown",
   "metadata": {
    "application/vnd.databricks.v1+cell": {
     "cellMetadata": {
      "byteLimit": 2048000,
      "rowLimit": 10000
     },
     "inputWidgets": {},
     "nuid": "9bde0a2a-0e09-428e-a75f-3a257e5b8cd1",
     "showTitle": false,
     "tableResultSettingsMap": {},
     "title": ""
    }
   },
   "source": [
    "1. Count products by category \n",
    "- Write a SQL query to return the number of product under each category"
   ]
  },
  {
   "cell_type": "code",
   "execution_count": 0,
   "metadata": {
    "application/vnd.databricks.v1+cell": {
     "cellMetadata": {
      "byteLimit": 2048000,
      "rowLimit": 10000
     },
     "inputWidgets": {},
     "nuid": "8f045a03-902a-40fe-87e0-85eff22fe52c",
     "showTitle": false,
     "tableResultSettingsMap": {},
     "title": ""
    }
   },
   "outputs": [],
   "source": [
    "df_count_category = (\n",
    "    df_products.groupby(F.col(\"category\"))\n",
    "                .agg(F.count(F.col(\"product_id\")).alias(\"count\"))\n",
    "                .orderBy(F.col(\"count\").desc())\n",
    ")    \n",
    "df_count_category.show()"
   ]
  },
  {
   "cell_type": "markdown",
   "metadata": {
    "application/vnd.databricks.v1+cell": {
     "cellMetadata": {
      "byteLimit": 2048000,
      "rowLimit": 10000
     },
     "inputWidgets": {},
     "nuid": "00eb2d0a-6dd6-459d-b5c1-76a76f8741da",
     "showTitle": false,
     "tableResultSettingsMap": {},
     "title": ""
    }
   },
   "source": [
    "2. Count products by category \n",
    "- Write a SQL query to return the number of product under each category"
   ]
  },
  {
   "cell_type": "code",
   "execution_count": 0,
   "metadata": {
    "application/vnd.databricks.v1+cell": {
     "cellMetadata": {
      "byteLimit": 2048000,
      "rowLimit": 10000
     },
     "inputWidgets": {},
     "nuid": "02b86e1c-78e3-4e6f-9b60-c8eacc7ed752",
     "showTitle": false,
     "tableResultSettingsMap": {},
     "title": ""
    }
   },
   "outputs": [],
   "source": [
    "df_count_category = (\n",
    "    df_products.groupby(F.col(\"category\"))\n",
    "                .agg(F.count(F.col(\"product_id\")).alias(\"count\"))\n",
    "                .orderBy(F.col(\"count\"))\n",
    ")\n",
    "df_count_category.show()"
   ]
  },
  {
   "cell_type": "markdown",
   "metadata": {
    "application/vnd.databricks.v1+cell": {
     "cellMetadata": {
      "byteLimit": 2048000,
      "rowLimit": 10000
     },
     "inputWidgets": {},
     "nuid": "268ca91f-23d0-4887-a6a2-6304f5975a55",
     "showTitle": false,
     "tableResultSettingsMap": {},
     "title": ""
    }
   },
   "source": [
    "3. Most expensive & cheapest products by category \n",
    "- Write a SQL query that returns the name and price of the most expensive product and \n",
    "- the cheapest product (in the same row) for each product category"
   ]
  },
  {
   "cell_type": "code",
   "execution_count": 0,
   "metadata": {
    "application/vnd.databricks.v1+cell": {
     "cellMetadata": {
      "byteLimit": 2048000,
      "rowLimit": 10000
     },
     "inputWidgets": {},
     "nuid": "62c58cb2-8435-4b5c-ba7b-822017b34090",
     "showTitle": false,
     "tableResultSettingsMap": {},
     "title": ""
    }
   },
   "outputs": [],
   "source": [
    "df_expensive_cheap = (\n",
    "    df_products.join(df_products.groupBy(\"category\")\n",
    "                                .agg(\n",
    "                                        F.max(\"price\").alias(\"max_price\"), \n",
    "                                        F.min(\"price\").alias(\"min_price\")\n",
    "                                    )\n",
    "                                , \"category\"\n",
    "                    )\n",
    "                .groupBy(\"category\", \"max_price\", \"min_price\")\n",
    "                .agg(\n",
    "                        F.first(F.when(F.col(\"price\") == F.col(\"max_price\"), F.col(\"name\")), ignorenulls = True).alias(\"expensive_Product\"),\n",
    "                        F.first(F.when(F.col(\"price\") == F.col(\"min_price\"), F.col(\"name\")), ignorenulls = True).alias(\"cheap_product\")\n",
    "                    )\n",
    ")\n",
    "df_expensive_cheap.select(\"category\", \"expensive_Product\", \"max_price\", \"cheap_product\", \"min_price\").show()"
   ]
  },
  {
   "cell_type": "markdown",
   "metadata": {
    "application/vnd.databricks.v1+cell": {
     "cellMetadata": {
      "byteLimit": 2048000,
      "rowLimit": 10000
     },
     "inputWidgets": {},
     "nuid": "6706c57f-9216-42c5-be97-ec715eac1766",
     "showTitle": false,
     "tableResultSettingsMap": {},
     "title": ""
    }
   },
   "source": [
    "Using window functions"
   ]
  },
  {
   "cell_type": "code",
   "execution_count": 0,
   "metadata": {
    "application/vnd.databricks.v1+cell": {
     "cellMetadata": {
      "byteLimit": 2048000,
      "rowLimit": 10000
     },
     "inputWidgets": {},
     "nuid": "1f62ebbe-e4b2-484d-bf11-fbcbb51176d9",
     "showTitle": false,
     "tableResultSettingsMap": {},
     "title": ""
    }
   },
   "outputs": [],
   "source": [
    "from pyspark.sql.window import Window\n",
    "\n",
    "# Definir la ventana por categoría\n",
    "w = Window.partitionBy(\"category\").orderBy(F.col(\"price\").desc())\n",
    "w_min = Window.partitionBy(\"category\").orderBy(F.col(\"price\").asc())\n",
    "\n",
    "# Producto más caro por categoría\n",
    "df_max = df_products.withColumn(\"rank\", F.row_number().over(w)) \\\n",
    "                   .filter(F.col(\"rank\") == 1) \\\n",
    "                   .select(\"category\", \n",
    "                           F.col(\"name\").alias(\"most_expensive_product\"),\n",
    "                           F.col(\"price\").alias(\"max_price\"))\n",
    "\n",
    "# Producto más barato por categoría\n",
    "df_min = df_products.withColumn(\"rank\", F.row_number().over(w_min)) \\\n",
    "                   .filter(F.col(\"rank\") == 1) \\\n",
    "                   .select(\"category\", \n",
    "                           F.col(\"name\").alias(\"cheapest_product\"),\n",
    "                           F.col(\"price\").alias(\"min_price\"))\n",
    "\n",
    "# Unir ambos resultados\n",
    "df_result = df_max.join(df_min, \"category\").orderBy(\"category\")\n",
    "\n",
    "df_result.show()\n"
   ]
  },
  {
   "cell_type": "markdown",
   "metadata": {
    "application/vnd.databricks.v1+cell": {
     "cellMetadata": {
      "byteLimit": 2048000,
      "rowLimit": 10000
     },
     "inputWidgets": {},
     "nuid": "ec99db12-cfb3-4c02-a3e3-2997e2017270",
     "showTitle": false,
     "tableResultSettingsMap": {},
     "title": ""
    }
   },
   "source": [
    "3. Most popular products \n",
    "- Write a SQL query to return the top 10 most popular products ordered by customers in the state of FL in 2018. \n",
    "- The popularity of a product is determined by the overall quantity of items ordered for each product. \n",
    "- The result should include the product id, product name and total quantity ordered from higher to lower"
   ]
  },
  {
   "cell_type": "code",
   "execution_count": 0,
   "metadata": {
    "application/vnd.databricks.v1+cell": {
     "cellMetadata": {
      "byteLimit": 2048000,
      "rowLimit": 10000
     },
     "inputWidgets": {},
     "nuid": "980d84f8-46ac-42ec-b710-224027447fe6",
     "showTitle": false,
     "tableResultSettingsMap": {},
     "title": ""
    }
   },
   "outputs": [],
   "source": [
    "from pyspark.sql.functions import broadcast\n",
    "\n",
    "# Aplicar filtros antes de join\n",
    "df_orders_filtered = df_orders.filter(F.year(\"order_date\") == 2018)\n",
    "df_customers_filtered = df_customers.filter(F.col(\"state\") == \"Florida\")\n",
    "\n",
    "df_popular_products = (\n",
    "    df_customers_filtered\n",
    "        .join(df_orders_filtered, \"customer_id\")\n",
    "        .join(df_items, \"order_id\")\n",
    "        .join(broadcast(df_products), \"product_id\")   # broadcast productos (tabla pequeña)\n",
    "        .groupBy(\"product_id\", \"name\")\n",
    "        .agg(F.sum(\"quantity\").alias(\"total_quantity\"))\n",
    "        .orderBy(F.desc(\"total_quantity\"))\n",
    "        .limit(10)\n",
    ")\n",
    "df_popular_products.show()"
   ]
  },
  {
   "cell_type": "markdown",
   "metadata": {
    "application/vnd.databricks.v1+cell": {
     "cellMetadata": {
      "byteLimit": 2048000,
      "rowLimit": 10000
     },
     "inputWidgets": {},
     "nuid": "a0b0a2cc-7d10-4653-9025-054173438624",
     "showTitle": false,
     "tableResultSettingsMap": {},
     "title": ""
    }
   },
   "source": [
    "4. 2018 sales vs 2019 sales \n",
    "- Write a SQL query to compare the total amount of sales of all products under category \"Toys\" during 2018 vs 2019 (in the same row)."
   ]
  },
  {
   "cell_type": "code",
   "execution_count": 0,
   "metadata": {
    "application/vnd.databricks.v1+cell": {
     "cellMetadata": {
      "byteLimit": 2048000,
      "rowLimit": 10000
     },
     "inputWidgets": {},
     "nuid": "9c0cb62c-77b7-4a64-96b3-5a953f39544a",
     "showTitle": false,
     "tableResultSettingsMap": {},
     "title": ""
    }
   },
   "outputs": [],
   "source": [
    "df_sales2018 = (\n",
    "    df_items.join(df_products, \"product_id\")\n",
    "            .join(df_orders, \"order_id\")\n",
    "            .filter(\n",
    "                (F.year(\"order_date\") == \"2018\") & (F.col(\"category\") == \"Toys\")\n",
    "            )\n",
    "            .groupBy(\"category\")\n",
    "            .agg(F.sum(F.col(\"unique_price\") * F.col(\"quantity\")).alias(\"sales_2018\"))\n",
    ")\n",
    "\n",
    "df_sales2019 = (\n",
    "    df_items.join(df_products, \"product_id\")\n",
    "            .join(df_orders, \"order_id\")\n",
    "            .filter(\n",
    "                (F.year(\"order_date\") == \"2019\") & (F.col(\"category\") == \"Toys\")\n",
    "            )\n",
    "            .groupBy(\"category\")\n",
    "            .agg(F.sum(F.col(\"unique_price\") * F.col(\"quantity\")).alias(\"sales_2019\"))\n",
    ")\n",
    "\n",
    "# --- Cross Join (una fila con ambas métricas) ---\n",
    "df_result = (\n",
    "    df_sales2018.crossJoin(df_sales2019)\n",
    "    .withColumn(\"diff_sales\", F.col(\"sales_2019\") - F.col(\"sales_2018\"))\n",
    "    .withColumn(\n",
    "        \"growth_percent\",\n",
    "        F.round(((F.col(\"sales_2019\") - F.col(\"sales_2018\")) * 100.0) / F.when(F.col(\"sales_2018\") != 0, F.col(\"sales_2018\")), 2)\n",
    "    )\n",
    ")\n",
    "\n",
    "df_result.show()"
   ]
  },
  {
   "cell_type": "markdown",
   "metadata": {
    "application/vnd.databricks.v1+cell": {
     "cellMetadata": {
      "byteLimit": 2048000,
      "rowLimit": 10000
     },
     "inputWidgets": {},
     "nuid": "c3bb455a-8621-4c1f-ad75-92c393f42a5e",
     "showTitle": false,
     "tableResultSettingsMap": {},
     "title": ""
    }
   },
   "source": [
    "Using PIVOT"
   ]
  },
  {
   "cell_type": "code",
   "execution_count": 0,
   "metadata": {
    "application/vnd.databricks.v1+cell": {
     "cellMetadata": {
      "byteLimit": 2048000,
      "rowLimit": 10000
     },
     "inputWidgets": {},
     "nuid": "5035aa4a-f6af-4f13-babb-9d5cbbfd9cac",
     "showTitle": false,
     "tableResultSettingsMap": {},
     "title": ""
    }
   },
   "outputs": [],
   "source": [
    "df_sales = (\n",
    "    df_orders.join(df_items, \"order_id\")\n",
    "            .join(df_products, \"product_id\")\n",
    "            .filter(F.col(\"category\") == \"Toys\")\n",
    "            .withColumn(\"year\", F.year(\"order_date\"))\n",
    "            .groupBy(\"year\")\n",
    "            .agg(F.sum(F.col(\"quantity\") * F.col(\"price\")).alias(\"sales\"))\n",
    ")\n",
    "\n",
    "df_pivot = (\n",
    "    df_sales.groupBy()\n",
    "            .pivot(\"year\", [2018, 2019])\n",
    "            .agg(F.first(\"sales\"))\n",
    "            .withColumnRenamed(\"2018\", \"sales_2018\")\n",
    "            .withColumnRenamed(\"2019\", \"sales_2019\")\n",
    "            .withColumn(\"diff_sales\", F.col(\"sales_2019\") - F.col(\"sales_2018\"))\n",
    "            .withColumn(\n",
    "                \"growth_percent\",\n",
    "                F.round(((F.col(\"sales_2019\") - F.col(\"sales_2018\")) * 100.0) / \n",
    "                        F.when(F.col(\"sales_2018\") != 0, F.col(\"sales_2018\")), 2)\n",
    "            )\n",
    ")\n",
    "df_pivot.show()"
   ]
  },
  {
   "cell_type": "markdown",
   "metadata": {
    "application/vnd.databricks.v1+cell": {
     "cellMetadata": {
      "byteLimit": 2048000,
      "rowLimit": 10000
     },
     "inputWidgets": {},
     "nuid": "63777058-77af-4f3a-a613-7dad565d24e5",
     "showTitle": false,
     "tableResultSettingsMap": {},
     "title": ""
    }
   },
   "source": [
    "A single query"
   ]
  },
  {
   "cell_type": "code",
   "execution_count": 0,
   "metadata": {
    "application/vnd.databricks.v1+cell": {
     "cellMetadata": {
      "byteLimit": 2048000,
      "rowLimit": 10000
     },
     "inputWidgets": {},
     "nuid": "3a1e1f53-c889-4d2c-b711-b3affb40ff86",
     "showTitle": false,
     "tableResultSettingsMap": {},
     "title": ""
    }
   },
   "outputs": [],
   "source": [
    "df_sales = (\n",
    "    df_orders.join(df_items, \"order_id\")\n",
    "            .join(df_products, \"product_id\")\n",
    "            .filter(F.col(\"category\") == \"Toys\")\n",
    "            .agg(\n",
    "                F.sum(F.when(F.year(\"order_date\") == 2018, F.col(\"quantity\") * F.col(\"unique_price\"))).alias(\"sales_2018\"),\n",
    "                F.sum(F.when(F.year(\"order_date\") == 2019, F.col(\"quantity\") * F.col(\"unique_price\"))).alias(\"sales_2019\")\n",
    "            )\n",
    "            .withColumn(\"diff_sales\", F.col(\"sales_2019\") - F.col(\"sales_2018\"))\n",
    "            .withColumn(\n",
    "                \"growth_percent\",\n",
    "                F.round(((F.col(\"sales_2019\") - F.col(\"sales_2018\")) * 100.0) /\n",
    "                        F.when(F.col(\"sales_2018\") != 0, F.col(\"sales_2018\")), 2)\n",
    "            )\n",
    ")\n",
    "df_sales.show()\n"
   ]
  },
  {
   "cell_type": "markdown",
   "metadata": {
    "application/vnd.databricks.v1+cell": {
     "cellMetadata": {
      "byteLimit": 2048000,
      "rowLimit": 10000
     },
     "inputWidgets": {},
     "nuid": "554aa988-ab47-441f-ad6e-5747ddc4696c",
     "showTitle": false,
     "tableResultSettingsMap": {},
     "title": ""
    }
   },
   "source": [
    "6. Total sales by Category"
   ]
  },
  {
   "cell_type": "code",
   "execution_count": 0,
   "metadata": {
    "application/vnd.databricks.v1+cell": {
     "cellMetadata": {
      "byteLimit": 2048000,
      "rowLimit": 10000
     },
     "inputWidgets": {},
     "nuid": "e59c201b-1061-45a6-8a70-8214ea63ade1",
     "showTitle": false,
     "tableResultSettingsMap": {},
     "title": ""
    }
   },
   "outputs": [],
   "source": [
    "df_sales = (\n",
    "    df_items.join(df_products, \"product_id\")\n",
    "            .withColumn(\"total\", F.col(\"unique_price\") * F.col(\"quantity\"))\n",
    "            .groupby(\"category\")\n",
    "            .agg(F.sum(\"total\").alias(\"total_sales\"))\n",
    ")\n",
    "df_sales.show()"
   ]
  }
 ],
 "metadata": {
  "application/vnd.databricks.v1+notebook": {
   "computePreferences": null,
   "dashboards": [],
   "environmentMetadata": {
    "base_environment": "",
    "environment_version": "3"
   },
   "inputWidgetPreferences": null,
   "language": "python",
   "notebookMetadata": {
    "pythonIndentUnit": 4
   },
   "notebookName": "Querys",
   "widgets": {}
  },
  "language_info": {
   "name": "python"
  }
 },
 "nbformat": 4,
 "nbformat_minor": 0
}
