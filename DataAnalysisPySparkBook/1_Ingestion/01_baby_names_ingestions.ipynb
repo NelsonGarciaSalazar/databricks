{
 "cells": [
  {
   "cell_type": "code",
   "execution_count": 0,
   "metadata": {
    "application/vnd.databricks.v1+cell": {
     "cellMetadata": {
      "byteLimit": 2048000,
      "rowLimit": 10000
     },
     "inputWidgets": {},
     "nuid": "c1204653-b290-4a3c-980d-3cd35885e30e",
     "showTitle": false,
     "tableResultSettingsMap": {},
     "title": ""
    }
   },
   "outputs": [],
   "source": [
    "# Parámetros\n",
    "bronze_file = \"/Volumes/workspace/dataanalysispysparkbook/bronze_files\"\n",
    "bronze_delta = \"/Volumes/workspace/dataanalysispysparkbook/bronze_delta/baby_names\"\n",
    "table_name = \"dataanalysispysparkbook.baby_names_raw\""
   ]
  },
  {
   "cell_type": "code",
   "execution_count": 0,
   "metadata": {
    "application/vnd.databricks.v1+cell": {
     "cellMetadata": {
      "byteLimit": 2048000,
      "rowLimit": 10000
     },
     "inputWidgets": {},
     "nuid": "b579b507-4fe4-4bf2-8704-788e9a0053d8",
     "showTitle": false,
     "tableResultSettingsMap": {},
     "title": ""
    }
   },
   "outputs": [],
   "source": [
    "# Descargar archivo\n",
    "download_url = \"https://health.data.ny.gov/api/views/jxy9-yhdk/rows.csv\"\n",
    "file_name = \"baby_names.csv\"\n",
    "dbutils.fs.cp(download_url, f\"{bronze_file}/{file_name}\")\n",
    "\n",
    "# Leer archivo\n",
    "df = spark.read.option(\"header\", True).csv(f\"{bronze_file}/{file_name}\")\n",
    "df.show(5)\n",
    "\n",
    "#Cambiar nombre de columna\n",
    "df = df.withColumnRenamed(\"First Name\", \"first_name\")\n",
    "df.show(5)\n",
    "\n",
    "# Guardar en formato Delta\n",
    "df.write.format(\"delta\").mode(\"overwrite\").save(bronze_delta)\n",
    "\n",
    "# Registrar tabla en metastore\n",
    "df.write.format(\"delta\").mode(\"overwrite\").saveAsTable(table_name)\n",
    "df.show(5)\n",
    "\n",
    "# Leer tabla\n",
    "spark.sql(\"SELECT * FROM dataanalysispysparkbook.baby_names_raw LIMIT 5\").display()\n"
   ]
  }
 ],
 "metadata": {
  "application/vnd.databricks.v1+notebook": {
   "computePreferences": null,
   "dashboards": [],
   "environmentMetadata": {
    "base_environment": "",
    "environment_version": "2"
   },
   "inputWidgetPreferences": null,
   "language": "python",
   "notebookMetadata": {
    "mostRecentlyExecutedCommandWithImplicitDF": {
     "commandId": 5633496207761672,
     "dataframes": [
      "_sqldf"
     ]
    },
    "pythonIndentUnit": 4
   },
   "notebookName": "01_baby_names_ingestions",
   "widgets": {}
  },
  "language_info": {
   "name": "python"
  }
 },
 "nbformat": 4,
 "nbformat_minor": 0
}
