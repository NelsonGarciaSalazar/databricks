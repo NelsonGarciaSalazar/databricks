{
 "cells": [
  {
   "cell_type": "code",
   "execution_count": 0,
   "metadata": {
    "application/vnd.databricks.v1+cell": {
     "cellMetadata": {
      "byteLimit": 2048000,
      "rowLimit": 10000
     },
     "inputWidgets": {},
     "nuid": "fcb4501b-9f7e-4a75-94ce-0631044d1b45",
     "showTitle": false,
     "tableResultSettingsMap": {},
     "title": ""
    }
   },
   "outputs": [],
   "source": [
    "bronze_table = \"dataanalysispysparkbook.baby_names_raw\"\n",
    "silver_table_path = \"/Volumes/workspace/dataanalysispysparkbook/silver/baby_names_clean\"\n",
    "silver_table = \"dataanalysispysparkbook.baby_names_clean\""
   ]
  },
  {
   "cell_type": "code",
   "execution_count": 0,
   "metadata": {
    "application/vnd.databricks.v1+cell": {
     "cellMetadata": {
      "byteLimit": 2048000,
      "rowLimit": 10000
     },
     "inputWidgets": {},
     "nuid": "0424686f-0d00-46ec-8450-2464feff6cb6",
     "showTitle": false,
     "tableResultSettingsMap": {},
     "title": ""
    }
   },
   "outputs": [],
   "source": [
    "# Transformación: limpieza\n",
    "df = spark.sql(f\"SELECT Year, Sex, TRIM(First_Name) AS Name, Count FROM {bronze_table}\")\n",
    "df_clean = df.filter(\"Name IS NOT NULL AND Count > 0\")\n",
    "df_clean.show(5)\n",
    "\n",
    "# Guardar como Delta en Silver\n",
    "df_clean.write.format(\"delta\").mode(\"overwrite\").save(silver_table_path)\n",
    "\n",
    "df_clean.createOrReplaceTempView(\"v_baby_names_clean\")\n",
    "spark.sql('''SELECT * FROM v_baby_names_clean LIMIT 5''').display()\n",
    "\n",
    "# Crear tabla en Metaestore\n",
    "spark.sql(f\"DROP TABLE IF EXISTS {silver_table}\")\n",
    "spark.sql(f\"CREATE TABLE {silver_table} AS SELECT * FROM v_baby_names_clean\")\n",
    "\n",
    "# Consultar tabla en Metaestore\n",
    "spark.sql(f\"SELECT * FROM {silver_table} LIMIT 5\").display()"
   ]
  }
 ],
 "metadata": {
  "application/vnd.databricks.v1+notebook": {
   "computePreferences": null,
   "dashboards": [],
   "environmentMetadata": {
    "base_environment": "",
    "environment_version": "2"
   },
   "inputWidgetPreferences": null,
   "language": "python",
   "notebookMetadata": {
    "pythonIndentUnit": 4
   },
   "notebookName": "01_baby_names_transformations",
   "widgets": {}
  },
  "language_info": {
   "name": "python"
  }
 },
 "nbformat": 4,
 "nbformat_minor": 0
}
