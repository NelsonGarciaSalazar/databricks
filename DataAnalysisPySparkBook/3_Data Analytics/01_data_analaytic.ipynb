{
 "cells": [
  {
   "cell_type": "code",
   "execution_count": 0,
   "metadata": {
    "application/vnd.databricks.v1+cell": {
     "cellMetadata": {
      "byteLimit": 2048000,
      "rowLimit": 10000
     },
     "inputWidgets": {},
     "nuid": "b901ee53-c8a0-44ef-84fe-eb5612d4ca44",
     "showTitle": false,
     "tableResultSettingsMap": {},
     "title": ""
    }
   },
   "outputs": [],
   "source": [
    "silver_table = \"dataanalysispysparkbook.baby_names_clean\"\n",
    "gold_table_path = \"/Volumes/workspace/dataanalysispysparkbook/gold/baby_names_summary\"\n",
    "gold_table = \"dataanalysispysparkbook.baby_names_summary\"\n",
    "\n",
    "# Agregación\n",
    "df_summary = spark.sql(f\"\"\"\n",
    "        SELECT Year, Name, SUM(Count) AS total\n",
    "            FROM {silver_table}\n",
    "        GROUP BY Year, Name\n",
    "        ORDER BY Year, total DESC\n",
    "        \"\"\")\n",
    "df_summary.limit(5).display()\n",
    "\n",
    "# Guardar como Delta en Gold\n",
    "df_summary.write.format(\"delta\").mode(\"overwrite\").save(gold_table_path)\n",
    "\n",
    "# Crear vista temporal (corregido)\n",
    "df_summary.createOrReplaceTempView(\"v_baby_names_summary\")\n",
    "\n",
    "# Registrar tabla\n",
    "spark.sql(f\"\"\"CREATE TABLE IF NOT EXISTS {gold_table} AS SELECT * FROM v_baby_names_summary\"\"\")\n",
    "spark.sql(f'''SELECT * FROM {gold_table} LIMIT 5''').display()"
   ]
  }
 ],
 "metadata": {
  "application/vnd.databricks.v1+notebook": {
   "computePreferences": null,
   "dashboards": [],
   "environmentMetadata": {
    "base_environment": "",
    "environment_version": "2"
   },
   "inputWidgetPreferences": null,
   "language": "python",
   "notebookMetadata": {
    "pythonIndentUnit": 4
   },
   "notebookName": "01_data_analaytic",
   "widgets": {}
  },
  "language_info": {
   "name": "python"
  }
 },
 "nbformat": 4,
 "nbformat_minor": 0
}
