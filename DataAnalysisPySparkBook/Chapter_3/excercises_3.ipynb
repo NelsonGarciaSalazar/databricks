{
 "cells": [
  {
   "cell_type": "code",
   "execution_count": 0,
   "metadata": {
    "application/vnd.databricks.v1+cell": {
     "cellMetadata": {
      "byteLimit": 2048000,
      "rowLimit": 10000
     },
     "inputWidgets": {},
     "nuid": "4f59a00f-0226-48c7-b91b-e16d5989ffc1",
     "showTitle": false,
     "tableResultSettingsMap": {},
     "title": ""
    }
   },
   "outputs": [],
   "source": [
    "# Parameters\n",
    "path_book = \"/Volumes/workspace/dataanalysispysparkbook/bronze_files/*.txt\"\n",
    "path_one_book = \"/Volumes/workspace/dataanalysispysparkbook/bronze_files/\"\n",
    "path_pride_and_prejudice = \"/Volumes/workspace/dataanalysispysparkbook/bronze_files/1342-0.txt\"\n",
    "path_silver = \"/Volumes/workspace/dataanalysispysparkbook/silver/\"\n",
    "\n",
    "import pyspark.sql.functions as F"
   ]
  },
  {
   "cell_type": "code",
   "execution_count": 0,
   "metadata": {
    "application/vnd.databricks.v1+cell": {
     "cellMetadata": {
      "byteLimit": 2048000,
      "rowLimit": 10000
     },
     "inputWidgets": {},
     "nuid": "c341633f-b46c-4ece-9f34-9ca88e9e6d52",
     "showTitle": false,
     "tableResultSettingsMap": {},
     "title": ""
    }
   },
   "outputs": [],
   "source": [
    "results = (\n",
    "  spark.read.text(path_pride_and_prejudice)\n",
    "            .select(F.split(F.col(\"value\"), \" \").alias(\"line\"))\n",
    "            .select(F.explode(F.col(\"line\")).alias(\"word\"))\n",
    "            .select(F.lower(F.col(\"word\")).alias(\"word\"))\n",
    "            .select(F.regexp_extract(F.col(\"word\"), \"[a-z']*\", 0).alias(\"word\"))\n",
    "            .where(F.col(\"word\") != \"\")\n",
    "            .groupby(\"word\")\n",
    "            .count()\n",
    "            .orderBy(F.col(\"count\").desc())\n",
    ")\n",
    "results.show(5)"
   ]
  },
  {
   "cell_type": "markdown",
   "metadata": {
    "application/vnd.databricks.v1+cell": {
     "cellMetadata": {
      "byteLimit": 2048000,
      "rowLimit": 10000
     },
     "inputWidgets": {},
     "nuid": "a91d3613-7f7f-49a5-aaa1-1d01cc62a50d",
     "showTitle": false,
     "tableResultSettingsMap": {},
     "title": ""
    }
   },
   "source": [
    "#### Exercise 3.3\n",
    "1. By modifying the word_count_submit.py program, return the number of distinct\n",
    "words in Jane Austen’s Pride and Prejudice. (Hint: results contains one\n",
    "record for each unique word.).\n",
    "2. (Challenge) Wrap your program in a function that takes a file name as a parameter.\n",
    "It should return the number of distinct words."
   ]
  },
  {
   "cell_type": "code",
   "execution_count": 0,
   "metadata": {
    "application/vnd.databricks.v1+cell": {
     "cellMetadata": {
      "byteLimit": 2048000,
      "rowLimit": 10000
     },
     "inputWidgets": {},
     "nuid": "d75c9057-41ca-4a49-a5e8-5634af018399",
     "showTitle": false,
     "tableResultSettingsMap": {},
     "title": ""
    }
   },
   "outputs": [],
   "source": [
    "distinct_words = results.select(F.countDistinct(F.col(\"word\")).alias(\"distinct_words\"))\n",
    "distinct_words.show()"
   ]
  },
  {
   "cell_type": "code",
   "execution_count": 0,
   "metadata": {
    "application/vnd.databricks.v1+cell": {
     "cellMetadata": {
      "byteLimit": 2048000,
      "rowLimit": 10000
     },
     "inputWidgets": {},
     "nuid": "5177e2be-5128-4c89-a953-608beda790f9",
     "showTitle": false,
     "tableResultSettingsMap": {},
     "title": ""
    }
   },
   "outputs": [],
   "source": [
    "def distinct_words(file_name: str)-> int:\n",
    "    results = (\n",
    "        spark.read.text(f\"{path_one_book}{file_name}\")\n",
    "                .select(F.split(F.col(\"value\"), \" \").alias(\"line\"))\n",
    "                .select(F.explode(F.col(\"line\")).alias(\"word\"))\n",
    "                .select(F.lower(F.col(\"word\")).alias(\"word\"))\n",
    "                .select(F.regexp_extract(F.col(\"word\"), \"[a-z']*\", 0).alias(\"word\"))\n",
    "                .where(F.col(\"word\") != \"\")\n",
    "                .select(F.countDistinct(F.col(\"word\")).alias(\"distinct_words\"))\n",
    "        )\n",
    "    return results.first()"
   ]
  },
  {
   "cell_type": "code",
   "execution_count": 0,
   "metadata": {
    "application/vnd.databricks.v1+cell": {
     "cellMetadata": {
      "byteLimit": 2048000,
      "rowLimit": 10000
     },
     "inputWidgets": {},
     "nuid": "1c4f38b6-0887-470e-b2fe-b12de381212e",
     "showTitle": false,
     "tableResultSettingsMap": {},
     "title": ""
    }
   },
   "outputs": [],
   "source": [
    "distinct_words(\"11-0.txt\")"
   ]
  },
  {
   "cell_type": "markdown",
   "metadata": {
    "application/vnd.databricks.v1+cell": {
     "cellMetadata": {
      "byteLimit": 2048000,
      "rowLimit": 10000
     },
     "inputWidgets": {},
     "nuid": "21634c01-598c-4054-98af-ead61c4a9fb1",
     "showTitle": false,
     "tableResultSettingsMap": {},
     "title": ""
    }
   },
   "source": [
    "#### Exercise 3.4\n",
    "Taking word_count_submit.py, modify the script to return a sample of five words that\n",
    "appear only once in Jane Austen’s Pride and Prejudice."
   ]
  },
  {
   "cell_type": "code",
   "execution_count": 0,
   "metadata": {
    "application/vnd.databricks.v1+cell": {
     "cellMetadata": {
      "byteLimit": 2048000,
      "rowLimit": 10000
     },
     "inputWidgets": {},
     "nuid": "bc5e468a-657a-4af6-9110-83723dc7595f",
     "showTitle": false,
     "tableResultSettingsMap": {},
     "title": ""
    }
   },
   "outputs": [],
   "source": [
    "five_words_appear_only_once = results.filter(F.col(\"count\") == 1)\n",
    "five_words_appear_only_once.show(5)"
   ]
  },
  {
   "cell_type": "markdown",
   "metadata": {
    "application/vnd.databricks.v1+cell": {
     "cellMetadata": {
      "byteLimit": 2048000,
      "rowLimit": 10000
     },
     "inputWidgets": {},
     "nuid": "d8be181f-ee5d-4f5c-8266-47a00fe331fe",
     "showTitle": false,
     "tableResultSettingsMap": {},
     "title": ""
    }
   },
   "source": [
    "#### Exercise 3.5\n",
    "1. Using the substring function (refer to PySpark’s API or the pyspark shell if needed), return the top five most popular first letters (keep only the first letter of each word).\n",
    "2. Compute the number of words starting with a consonant or a vowel. (Hint: The isin() function might be useful.)"
   ]
  },
  {
   "cell_type": "code",
   "execution_count": 0,
   "metadata": {
    "application/vnd.databricks.v1+cell": {
     "cellMetadata": {
      "byteLimit": 2048000,
      "rowLimit": 10000
     },
     "inputWidgets": {},
     "nuid": "884d9504-f499-4768-866d-91652a4953c2",
     "showTitle": false,
     "tableResultSettingsMap": {},
     "title": ""
    }
   },
   "outputs": [],
   "source": [
    "top_five_letters = (\n",
    "                    results.select(F.col(\"word\").substr(1, 1).alias(\"letter\"), F.col(\"count\"))\n",
    "                            .groupby(\"letter\")\n",
    "                            .sum(\"count\")\n",
    "                            .orderBy(F.col(\"sum(count)\").desc())\n",
    "                )\n",
    "top_five_letters.show(5)"
   ]
  },
  {
   "cell_type": "code",
   "execution_count": 0,
   "metadata": {
    "application/vnd.databricks.v1+cell": {
     "cellMetadata": {
      "byteLimit": 2048000,
      "rowLimit": 10000
     },
     "inputWidgets": {},
     "nuid": "700511a9-273e-442a-a45e-44371335a0ab",
     "showTitle": false,
     "tableResultSettingsMap": {},
     "title": ""
    }
   },
   "outputs": [],
   "source": [
    "count_vowel_consonants = (\n",
    "    results.withColumn(\n",
    "        \"letter_type\",\n",
    "        F.when(F.col(\"word\").isin([\"a\", \"e\", \"i\", \"o\", \"u\"]), \"vowel\").otherwise(\"consonant\")\n",
    "    )\n",
    "    .groupBy(\"letter_type\")\n",
    "    #.sum(\"count\")\n",
    "    #.orderBy(F.col(\"sum(count)\").desc())\n",
    "    .agg(F.sum(\"count\").alias(\"total_count\"))\n",
    "    .orderBy(F.col(\"total_count\").desc())\n",
    ")            \n",
    "count_vowel_consonants.show()\n"
   ]
  }
 ],
 "metadata": {
  "application/vnd.databricks.v1+notebook": {
   "computePreferences": null,
   "dashboards": [],
   "environmentMetadata": {
    "base_environment": "",
    "environment_version": "2"
   },
   "inputWidgetPreferences": null,
   "language": "python",
   "notebookMetadata": {
    "pythonIndentUnit": 4
   },
   "notebookName": "excercises_3",
   "widgets": {}
  },
  "language_info": {
   "name": "python"
  }
 },
 "nbformat": 4,
 "nbformat_minor": 0
}
