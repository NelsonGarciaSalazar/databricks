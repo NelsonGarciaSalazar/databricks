{
 "cells": [
  {
   "cell_type": "markdown",
   "metadata": {
    "application/vnd.databricks.v1+cell": {
     "cellMetadata": {},
     "inputWidgets": {},
     "nuid": "d0c5ed1b-59f9-4c7b-8c98-c9fa2139e1d5",
     "showTitle": false,
     "tableResultSettingsMap": {},
     "title": ""
    }
   },
   "source": [
    "#### Exercise 4.3\n",
    "Reread the data in a logs_raw data frame (the data file is ./data/broadcast_logs-BroadcastLogs_2018_Q3_M8.CSV), this time without passing any optional parameters.  \n",
    "Print the first five rows of data, as well as the schema. What are the differences in terms of data and schema between logs and logs_raw?"
   ]
  },
  {
   "cell_type": "code",
   "execution_count": 0,
   "metadata": {
    "application/vnd.databricks.v1+cell": {
     "cellMetadata": {
      "byteLimit": 2048000,
      "rowLimit": 10000
     },
     "inputWidgets": {},
     "nuid": "77663f58-669f-4123-bc98-ae9965e8fec2",
     "showTitle": false,
     "tableResultSettingsMap": {},
     "title": ""
    }
   },
   "outputs": [],
   "source": [
    "import pyspark.sql.functions as F\n",
    "\n",
    "path_file = (\"/Volumes/workspace/dataanalysispysparkbook/bronze_files/eda/\")\n",
    "\n",
    "df = (spark.read.format(\"csv\")\n",
    "                .option(\"sep\", \"|\")\n",
    "                .option(\"inferSchema\", \"true\")\n",
    "                .option(\"header\", \"true\")\n",
    "                .load(path_file + \"BroadcastLogs_2018_Q3_M8_sample.CSV\")\n",
    ")                \n",
    "display(df.limit(5))\n",
    "df.printSchema()                                                                                       "
   ]
  },
  {
   "cell_type": "markdown",
   "metadata": {
    "application/vnd.databricks.v1+cell": {
     "cellMetadata": {},
     "inputWidgets": {},
     "nuid": "9248ea47-af2d-4714-802e-a9de83adc464",
     "showTitle": false,
     "tableResultSettingsMap": {},
     "title": ""
    }
   },
   "source": [
    "#### Exercise 4.4\n",
    "Create a new data frame, logs_clean, that contains only the columns that do not end with ID."
   ]
  },
  {
   "cell_type": "code",
   "execution_count": 0,
   "metadata": {
    "application/vnd.databricks.v1+cell": {
     "cellMetadata": {
      "byteLimit": 2048000,
      "rowLimit": 10000
     },
     "inputWidgets": {},
     "nuid": "4b3efadc-bc88-48f7-8d55-a2830bb7d61d",
     "showTitle": false,
     "tableResultSettingsMap": {},
     "title": ""
    }
   },
   "outputs": [],
   "source": [
    "logs_clean = df.select(*[x for x in df.columns if not x.endswith(\"ID\")])\n",
    "logs_clean.printSchema()"
   ]
  },
  {
   "cell_type": "code",
   "execution_count": 0,
   "metadata": {
    "application/vnd.databricks.v1+cell": {
     "cellMetadata": {},
     "inputWidgets": {},
     "nuid": "1e3f9baf-22ac-4169-991c-fc22c9b67d60",
     "showTitle": false,
     "tableResultSettingsMap": {},
     "title": ""
    }
   },
   "outputs": [],
   "source": []
  }
 ],
 "metadata": {
  "application/vnd.databricks.v1+notebook": {
   "computePreferences": null,
   "dashboards": [],
   "environmentMetadata": {
    "base_environment": "",
    "environment_version": "2"
   },
   "inputWidgetPreferences": null,
   "language": "python",
   "notebookMetadata": {
    "pythonIndentUnit": 4
   },
   "notebookName": "Exercise 4",
   "widgets": {}
  },
  "language_info": {
   "name": "python"
  }
 },
 "nbformat": 4,
 "nbformat_minor": 0
}
