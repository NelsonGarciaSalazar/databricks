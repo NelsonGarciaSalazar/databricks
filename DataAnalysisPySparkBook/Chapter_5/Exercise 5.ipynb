{
 "cells": [
  {
   "cell_type": "markdown",
   "metadata": {
    "application/vnd.databricks.v1+cell": {
     "cellMetadata": {},
     "inputWidgets": {},
     "nuid": "6664ff7a-e180-4fe7-95bf-d06c781628c1",
     "showTitle": false,
     "tableResultSettingsMap": {},
     "title": ""
    }
   },
   "source": [
    "#### Exercise 5.4\n",
    "Write PySpark code that will return the result of the following code block without using a left anti-join:  \n",
    "\n",
    "left.join(right, how=\"left_anti\", on=\"my_column\").select(\"my_column\").distinct()\n",
    "  "
   ]
  },
  {
   "cell_type": "code",
   "execution_count": 0,
   "metadata": {
    "application/vnd.databricks.v1+cell": {
     "cellMetadata": {},
     "inputWidgets": {},
     "nuid": "3fe1120e-0937-48fd-9fe2-0e08a56dfb66",
     "showTitle": false,
     "tableResultSettingsMap": {},
     "title": ""
    }
   },
   "outputs": [],
   "source": [
    "left.join(right, how=\"left\", \n",
    "          on=left[\"my_column\"] == right[\"my_column\"]\n",
    "        ).where(right[\"my_column\"].isnull()\n",
    ").select(left[\"my_column\"])"
   ]
  },
  {
   "cell_type": "markdown",
   "metadata": {
    "application/vnd.databricks.v1+cell": {
     "cellMetadata": {},
     "inputWidgets": {},
     "nuid": "06af3f91-a7e8-4d76-882e-aedc51b6d811",
     "showTitle": false,
     "tableResultSettingsMap": {},
     "title": ""
    }
   },
   "source": [
    "#### Exercise 5.5\n",
    "Using the data from the data/broadcast_logs/Call_Signs.csv (careful: the delimiter here is the comma, not the pipe!), add the Undertaking_Name to our final table to display a human-readable description of the channel."
   ]
  },
  {
   "cell_type": "code",
   "execution_count": 0,
   "metadata": {
    "application/vnd.databricks.v1+cell": {
     "cellMetadata": {
      "byteLimit": 2048000,
      "rowLimit": 10000
     },
     "inputWidgets": {},
     "nuid": "f938d19e-17fd-4ae2-9aab-6b7444e7a1ac",
     "showTitle": false,
     "tableResultSettingsMap": {},
     "title": ""
    }
   },
   "outputs": [],
   "source": [
    "path_call_signs = (\"/Volumes/workspace/dataanalysispysparkbook/bronze_files/eda/Call_Signs.csv\")"
   ]
  },
  {
   "cell_type": "code",
   "execution_count": 0,
   "metadata": {
    "application/vnd.databricks.v1+cell": {
     "cellMetadata": {
      "byteLimit": 2048000,
      "rowLimit": 10000
     },
     "inputWidgets": {},
     "nuid": "35b5ae73-5f5b-41e1-87ad-28aaf1183d80",
     "showTitle": false,
     "tableResultSettingsMap": {},
     "title": ""
    }
   },
   "outputs": [],
   "source": [
    "import pyspark.sql.functions as F\n",
    "\n",
    "df_call_signs = (spark.read.format(\"csv\")\n",
    "                            .option(\"sep\", \",\")\n",
    "                            .option(\"header\", \"True\")\n",
    "                            .option(\"inferSchema\", \"True\")\n",
    "                            .load(path_call_signs)\n",
    ")\n",
    "df_call_signs.show(5, False)\n",
    "\n",
    "df_human_readable = df_call_signs.drop(\"UndertakingNO\")\n",
    "df_human_readable.show(5, False)\n",
    "                                         "
   ]
  },
  {
   "cell_type": "markdown",
   "metadata": {
    "application/vnd.databricks.v1+cell": {
     "cellMetadata": {},
     "inputWidgets": {},
     "nuid": "c6e11141-eb60-4427-819f-05e061383fef",
     "showTitle": false,
     "tableResultSettingsMap": {},
     "title": ""
    }
   },
   "source": [
    "#### Exercise 5.6\n",
    "The government of Canada is asking for your analysis, but they’d like the PRC to be weighted differently. They’d like each PRC second to be considered 0.75 commercial seconds. Modify the program to account for this change."
   ]
  },
  {
   "cell_type": "code",
   "execution_count": 0,
   "metadata": {
    "application/vnd.databricks.v1+cell": {
     "cellMetadata": {
      "byteLimit": 2048000,
      "rowLimit": 10000
     },
     "inputWidgets": {},
     "nuid": "95d2574d-e171-4c4a-be47-a82ace3454db",
     "showTitle": false,
     "tableResultSettingsMap": {},
     "title": ""
    }
   },
   "outputs": [],
   "source": [
    "PRC_vs_Commercial = (\n",
    "    F.when(\n",
    "            F.trim(F.col(\"ProgramClassCD\")).isin(\n",
    "                [\"COM\", \"PGI\", \"PRO\", \"LOC\", \"SPO\", \"MER\", \"SOL\"]\n",
    "            ),\n",
    "            F.col(\"duration_seconds\"),\n",
    "    )\n",
    "    .when(\n",
    "            F.trim(F.col(\"ProgramClassCD\")) == \"PRC\",\n",
    "            F.col(\"duration_seconds\") * 0.75,\n",
    "    )\n",
    "    .otherwise(0)\n",
    ")\n",
    "\n",
    "exo5_6_df = (\n",
    "    full_log.groupby(\"LogIdentifierID\")\n",
    "        .agg(\n",
    "                F.sum(PRC_vs_Commercial).alias(\"duration_commercial\"),\n",
    "                F.sum(\"duration_seconds\").alias(\"duration_total\"),\n",
    "        )\n",
    "        .withColumn(\n",
    "            \"commercial_ratio\",\n",
    "            F.col(\"duration_commercial\") / F.col(\"duration_total\"),\n",
    "        )\n",
    ")\n",
    "\n",
    "exo5_6_df.orderBy(\"commercial_ratio\", ascending=False).show(5, False)"
   ]
  },
  {
   "cell_type": "markdown",
   "metadata": {
    "application/vnd.databricks.v1+cell": {
     "cellMetadata": {},
     "inputWidgets": {},
     "nuid": "e7dfae03-d48f-49a2-9bde-8ea527bed028",
     "showTitle": false,
     "tableResultSettingsMap": {},
     "title": ""
    }
   },
   "source": [
    "#### Exercise 5.7\n",
    "On the data frame returned from commercials.py, return the number of channels in each bucket based on their commercial_ratio. (Hint: look at the documentation for round on how to round a value.)"
   ]
  },
  {
   "cell_type": "code",
   "execution_count": 0,
   "metadata": {
    "application/vnd.databricks.v1+cell": {
     "cellMetadata": {},
     "inputWidgets": {},
     "nuid": "2ef51dd7-88f9-4436-9ff5-4704363a15af",
     "showTitle": false,
     "tableResultSettingsMap": {},
     "title": ""
    }
   },
   "outputs": [],
   "source": [
    "exo5_7_df = (\n",
    "    answer\n",
    "        .groupby(F.round(F.col(\"commercial_ratio\"),1).alias(\"commercial_ratio\"))\n",
    "        .agg(F.count(\"*\").alias(\"number_of_channels\"))\n",
    ")"
   ]
  }
 ],
 "metadata": {
  "application/vnd.databricks.v1+notebook": {
   "computePreferences": null,
   "dashboards": [],
   "environmentMetadata": {
    "base_environment": "",
    "environment_version": "2"
   },
   "inputWidgetPreferences": null,
   "language": "python",
   "notebookMetadata": {
    "pythonIndentUnit": 4
   },
   "notebookName": "Exercise 5",
   "widgets": {}
  },
  "language_info": {
   "name": "python"
  }
 },
 "nbformat": 4,
 "nbformat_minor": 0
}
