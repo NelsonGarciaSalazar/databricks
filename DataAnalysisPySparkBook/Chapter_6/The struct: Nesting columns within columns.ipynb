{
 "cells": [
  {
   "cell_type": "code",
   "execution_count": 0,
   "metadata": {
    "application/vnd.databricks.v1+cell": {
     "cellMetadata": {
      "byteLimit": 2048000,
      "rowLimit": 10000
     },
     "inputWidgets": {},
     "nuid": "b9cec974-0636-4d4a-b05a-7b005a51a41b",
     "showTitle": false,
     "tableResultSettingsMap": {},
     "title": ""
    }
   },
   "outputs": [],
   "source": [
    "import pyspark.sql.functions as F\n",
    "from pyspark.sql.types import *\n",
    "from pyspark.sql.window import Window\n",
    "\n",
    "path_shows = (\"/Volumes/workspace/dataanalysispysparkbook/bronze_files/eda/shows/\")"
   ]
  },
  {
   "cell_type": "code",
   "execution_count": 0,
   "metadata": {
    "application/vnd.databricks.v1+cell": {
     "cellMetadata": {
      "byteLimit": 2048000,
      "rowLimit": 10000
     },
     "inputWidgets": {},
     "nuid": "540f57ca-d5b6-4a96-b38a-80481d726062",
     "showTitle": false,
     "tableResultSettingsMap": {},
     "title": ""
    }
   },
   "outputs": [],
   "source": [
    "shows = spark.read.json(path_shows + \"shows-silicon-valley.json\")\n",
    "shows.limit(5).display()"
   ]
  },
  {
   "cell_type": "code",
   "execution_count": 0,
   "metadata": {
    "application/vnd.databricks.v1+cell": {
     "cellMetadata": {
      "byteLimit": 2048000,
      "rowLimit": 10000
     },
     "inputWidgets": {},
     "nuid": "17e2d086-7072-43c0-9ff1-ca18f7dab9e1",
     "showTitle": false,
     "tableResultSettingsMap": {},
     "title": ""
    }
   },
   "outputs": [],
   "source": [
    "shows.select(\"schedule\").printSchema()"
   ]
  },
  {
   "cell_type": "markdown",
   "metadata": {
    "application/vnd.databricks.v1+cell": {
     "cellMetadata": {
      "byteLimit": 2048000,
      "rowLimit": 10000
     },
     "inputWidgets": {},
     "nuid": "b1d1bc42-f93e-40b6-aa33-0c51954c0db8",
     "showTitle": false,
     "tableResultSettingsMap": {},
     "title": ""
    }
   },
   "source": [
    "Navigating structs as if they were nested columns"
   ]
  },
  {
   "cell_type": "code",
   "execution_count": 0,
   "metadata": {
    "application/vnd.databricks.v1+cell": {
     "cellMetadata": {
      "byteLimit": 2048000,
      "rowLimit": 10000
     },
     "inputWidgets": {},
     "nuid": "beb80bc8-86ba-4b01-8cc7-1d01b3144e14",
     "showTitle": false,
     "tableResultSettingsMap": {},
     "title": ""
    }
   },
   "outputs": [],
   "source": [
    "shows.select(F.col(\"_embedded\")).printSchema()"
   ]
  },
  {
   "cell_type": "code",
   "execution_count": 0,
   "metadata": {
    "application/vnd.databricks.v1+cell": {
     "cellMetadata": {
      "byteLimit": 2048000,
      "rowLimit": 10000
     },
     "inputWidgets": {},
     "nuid": "a54c5581-3378-41f6-a6cf-ba7f30dbed01",
     "showTitle": false,
     "tableResultSettingsMap": {},
     "title": ""
    }
   },
   "outputs": [],
   "source": [
    "shows_clean = (shows.withColumn(\"episodes\", F.col(\"_embedded.episodes\"))\n",
    "                    .drop(\"_embedded\")\n",
    ")\n",
    "shows_clean.printSchema()"
   ]
  },
  {
   "cell_type": "code",
   "execution_count": 0,
   "metadata": {
    "application/vnd.databricks.v1+cell": {
     "cellMetadata": {
      "byteLimit": 2048000,
      "rowLimit": 10000
     },
     "inputWidgets": {},
     "nuid": "db172ad8-cd96-4a2a-bc5f-9f93012e7542",
     "showTitle": false,
     "tableResultSettingsMap": {},
     "title": ""
    }
   },
   "outputs": [],
   "source": [
    "episodes_name = shows_clean.select(F.col(\"episodes.name\"))\n",
    "episodes_name.printSchema()\n",
    "episodes_name.show(3, truncate=100)\n",
    "\n",
    "episodes_name.select(F.explode(\"name\").alias(\"name\")) \\\n",
    "             .show(3, False)"
   ]
  },
  {
   "cell_type": "markdown",
   "metadata": {
    "application/vnd.databricks.v1+cell": {
     "cellMetadata": {
      "byteLimit": 2048000,
      "rowLimit": 10000
     },
     "inputWidgets": {},
     "nuid": "297ba567-e6f0-4ae7-aba3-f3b16d6ad086",
     "showTitle": false,
     "tableResultSettingsMap": {},
     "title": ""
    }
   },
   "source": [
    "### Building and using the data frame schema"
   ]
  },
  {
   "cell_type": "code",
   "execution_count": 0,
   "metadata": {
    "application/vnd.databricks.v1+cell": {
     "cellMetadata": {
      "byteLimit": 2048000,
      "rowLimit": 10000
     },
     "inputWidgets": {},
     "nuid": "85b9a935-6b8a-4e83-a6ca-e53ada8ddbf2",
     "showTitle": false,
     "tableResultSettingsMap": {},
     "title": ""
    }
   },
   "outputs": [],
   "source": [
    "import pyspark.sql.types as T"
   ]
  },
  {
   "cell_type": "code",
   "execution_count": 0,
   "metadata": {
    "application/vnd.databricks.v1+cell": {
     "cellMetadata": {
      "byteLimit": 2048000,
      "rowLimit": 10000
     },
     "inputWidgets": {},
     "nuid": "57dc5ba1-a9ef-4a67-88c6-40079d2aa16e",
     "showTitle": false,
     "tableResultSettingsMap": {},
     "title": ""
    }
   },
   "outputs": [],
   "source": [
    "episode_links_schema = T.StructType(\n",
    "    [\n",
    "        T.StructField(\n",
    "            \"self\", T.StructType([T.StructField(\"href\", T.StringType())])\n",
    "        )\n",
    "    ]\n",
    ")\n",
    "\n",
    "episode_image_schema = T.StructType(\n",
    "    [\n",
    "        T.StructField(\"medium\", T.StringType()),\n",
    "        T.StructField(\"original\", T.StringType()),\n",
    "    ]\n",
    ")\n",
    "\n",
    "episode_schema = T.StructType(\n",
    "    [\n",
    "        T.StructField(\"_links\", episode_links_schema),\n",
    "        T.StructField(\"airdate\", T.DateType()),\n",
    "        T.StructField(\"airstamp\", T.TimestampType()),\n",
    "        T.StructField(\"airtime\", T.StringType()),\n",
    "        T.StructField(\"id\", T.StringType()),\n",
    "        T.StructField(\"image\", episode_image_schema),\n",
    "        T.StructField(\"name\", T.StringType()),\n",
    "        T.StructField(\"number\", T.LongType()),\n",
    "        T.StructField(\"runtime\", T.LongType()),\n",
    "        T.StructField(\"season\", T.LongType()),\n",
    "        T.StructField(\"summary\", T.StringType()),\n",
    "        T.StructField(\"url\", T.StringType()),\n",
    "    ]\n",
    ")\n",
    "\n",
    "embedded_schema = T.StructType(\n",
    "    [\n",
    "        T.StructField(\n",
    "            \"_embedded\",\n",
    "            T.StructType(\n",
    "                [\n",
    "                    T.StructField(\n",
    "                        \"episodes\", T.ArrayType(episode_schema)\n",
    "                    )\n",
    "                ]\n",
    "            ),\n",
    "        )\n",
    "    ]\n",
    ")"
   ]
  },
  {
   "cell_type": "markdown",
   "metadata": {
    "application/vnd.databricks.v1+cell": {
     "cellMetadata": {},
     "inputWidgets": {},
     "nuid": "3ad6740e-1ef4-4c44-ab9e-cd2f968d8a18",
     "showTitle": false,
     "tableResultSettingsMap": {},
     "title": ""
    }
   },
   "source": [
    "Reading a JSON document using an explicit partial schema"
   ]
  },
  {
   "cell_type": "code",
   "execution_count": 0,
   "metadata": {
    "application/vnd.databricks.v1+cell": {
     "cellMetadata": {
      "byteLimit": 2048000,
      "rowLimit": 10000
     },
     "inputWidgets": {},
     "nuid": "8cf50898-44b9-423a-a6c2-137aae171349",
     "showTitle": false,
     "tableResultSettingsMap": {},
     "title": ""
    }
   },
   "outputs": [],
   "source": [
    "shows_with_schema = spark.read.json(\n",
    "    \"./data/shows/shows-silicon-valley.json\",\n",
    "    schema=embedded_schema,\n",
    "    mode=\"FAILFAST\", # By selecting the FAILFAST mode, our DataFrameReader will crash if our schema is incompatible.\n",
    ")\n"
   ]
  },
  {
   "cell_type": "markdown",
   "metadata": {
    "application/vnd.databricks.v1+cell": {
     "cellMetadata": {},
     "inputWidgets": {},
     "nuid": "00edba99-4916-4aac-bb9e-ef59f12ce321",
     "showTitle": false,
     "tableResultSettingsMap": {},
     "title": ""
    }
   },
   "source": [
    "Validating the airdate and airstamp field reading"
   ]
  },
  {
   "cell_type": "code",
   "execution_count": 0,
   "metadata": {
    "application/vnd.databricks.v1+cell": {
     "cellMetadata": {
      "byteLimit": 2048000,
      "rowLimit": 10000
     },
     "inputWidgets": {},
     "nuid": "31c3162d-7656-465d-a369-05d9eed216ee",
     "showTitle": false,
     "tableResultSettingsMap": {},
     "title": ""
    }
   },
   "outputs": [],
   "source": [
    "for column in [\"airdate\", \"airstamp\"]:\n",
    "    shows.select(f\"_embedded.episodes.{column}\")\\\n",
    "    .select(F.explode(column)).show(5)"
   ]
  },
  {
   "cell_type": "markdown",
   "metadata": {
    "application/vnd.databricks.v1+cell": {
     "cellMetadata": {},
     "inputWidgets": {},
     "nuid": "0dad761f-3eb1-4fa0-8101-4474c4eb8fe7",
     "showTitle": false,
     "tableResultSettingsMap": {},
     "title": ""
    }
   },
   "source": [
    "Pretty-printing the schema"
   ]
  },
  {
   "cell_type": "code",
   "execution_count": 0,
   "metadata": {
    "application/vnd.databricks.v1+cell": {
     "cellMetadata": {
      "byteLimit": 2048000,
      "rowLimit": 10000
     },
     "inputWidgets": {},
     "nuid": "71845da8-74a3-4380-951c-2b0bcdcd2505",
     "showTitle": false,
     "tableResultSettingsMap": {},
     "title": ""
    }
   },
   "outputs": [],
   "source": [
    "import pprint\n",
    "\n",
    "pprint.pprint(\n",
    "    shows_with_schema.select(\n",
    "        F.explode(\"_embedded.episodes\").alias(\"episode\")\n",
    "    )\n",
    "    .select(\"episode.airtime\")\n",
    "    .schema.jsonValue()\n",
    ")\n",
    "# {'fields': [{'metadata': {},\n",
    "# 'name': 'airtime',\n",
    "# 'nullable': True,\n",
    "# 'type': 'string'}],\n",
    "# 'type': 'struct'}"
   ]
  },
  {
   "cell_type": "markdown",
   "metadata": {
    "application/vnd.databricks.v1+cell": {
     "cellMetadata": {},
     "inputWidgets": {},
     "nuid": "5ce83688-c08b-4f65-9f91-0d547603ccad",
     "showTitle": false,
     "tableResultSettingsMap": {},
     "title": ""
    }
   },
   "source": [
    "Pretty-printing dummy complex types"
   ]
  },
  {
   "cell_type": "code",
   "execution_count": 0,
   "metadata": {
    "application/vnd.databricks.v1+cell": {
     "cellMetadata": {
      "byteLimit": 2048000,
      "rowLimit": 10000
     },
     "inputWidgets": {},
     "nuid": "10110b03-35fc-44ea-9436-a2883ea36187",
     "showTitle": false,
     "tableResultSettingsMap": {},
     "title": ""
    }
   },
   "outputs": [],
   "source": [
    "pprint.pprint(\n",
    "  T.StructField(\"array_example\", T.ArrayType(T.StringType())).jsonValue()\n",
    ")\n",
    "# {'metadata': {},\n",
    "# 'name': 'array_example',\n",
    "# 'nullable': True,\n",
    "# 'type': {'containsNull': True, 'elementType': 'string', 'type': 'array'}}\n",
    "pprint.pprint(\n",
    "  T.StructField(\n",
    "    \"map_example\", T.MapType(T.StringType(), T.LongType())\n",
    "  ).jsonValue()\n",
    ")\n",
    "# {'metadata': {},\n",
    "# 'name': 'map_example',\n",
    "# 'nullable': True,\n",
    "# 'type': {'keyType': 'string',\n",
    "# 'type': 'map',\n",
    "# 'valueContainsNull': True,\n",
    "# 'valueType': 'long'}}\n",
    "pprint.pprint(\n",
    "  T.StructType(\n",
    "    [\n",
    "      T.StructField(\n",
    "      \"map_example\", T.MapType(T.StringType(), T.LongType())\n",
    "    ),\n",
    "      T.StructField(\"array_example\", T.ArrayType(T.StringType())),\n",
    "    ]\n",
    "  ).jsonValue()\n",
    ")\n",
    "# {'fields': [{'metadata': {},\n",
    "                # 'name': 'map_example',\n",
    "                # 'nullable': True,\n",
    "                # 'type': {'keyType': 'string',\n",
    "                            # 'type': 'map',\n",
    "                            # 'valueContainsNull': True,\n",
    "                            # 'valueType': 'long'}},\n",
    "                # {'metadata': {},\n",
    "                  # 'name': 'array_example',\n",
    "                  # 'nullable': True,\n",
    "                  # 'type': {'containsNull': True,\n",
    "                              # 'elementType': 'string',\n",
    "                              # 'type': 'array'}}],\n",
    "# 'type': 'struct'}"
   ]
  },
  {
   "cell_type": "markdown",
   "metadata": {
    "application/vnd.databricks.v1+cell": {
     "cellMetadata": {},
     "inputWidgets": {},
     "nuid": "7889e801-25f7-4f86-a9ed-3a2dbec13fd7",
     "showTitle": false,
     "tableResultSettingsMap": {},
     "title": ""
    }
   },
   "source": [
    "Validating JSON schema is equal to data frame schema"
   ]
  },
  {
   "cell_type": "code",
   "execution_count": 0,
   "metadata": {
    "application/vnd.databricks.v1+cell": {
     "cellMetadata": {
      "byteLimit": 2048000,
      "rowLimit": 10000
     },
     "inputWidgets": {},
     "nuid": "82318795-240b-4e81-af6d-9bf0a4b7f1c4",
     "showTitle": false,
     "tableResultSettingsMap": {},
     "title": ""
    }
   },
   "outputs": [],
   "source": [
    "import json\n",
    "other_shows_schema = T.StructType.fromJson(json.loads(shows_with_schema.schema.json()))\n",
    "print(other_shows_schema == shows_with_schema.schema) # True"
   ]
  },
  {
   "cell_type": "code",
   "execution_count": 0,
   "metadata": {
    "application/vnd.databricks.v1+cell": {
     "cellMetadata": {},
     "inputWidgets": {},
     "nuid": "503737a5-578b-4430-944d-1d6ad6d5352e",
     "showTitle": false,
     "tableResultSettingsMap": {},
     "title": ""
    }
   },
   "outputs": [],
   "source": []
  }
 ],
 "metadata": {
  "application/vnd.databricks.v1+notebook": {
   "computePreferences": null,
   "dashboards": [],
   "environmentMetadata": {
    "base_environment": "",
    "environment_version": "2"
   },
   "inputWidgetPreferences": null,
   "language": "python",
   "notebookMetadata": {
    "pythonIndentUnit": 4
   },
   "notebookName": "The struct: Nesting columns within columns",
   "widgets": {}
  },
  "language_info": {
   "name": "python"
  }
 },
 "nbformat": 4,
 "nbformat_minor": 0
}
