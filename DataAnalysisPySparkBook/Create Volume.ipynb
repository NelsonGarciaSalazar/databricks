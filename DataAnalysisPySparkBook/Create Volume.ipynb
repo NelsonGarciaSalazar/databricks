{
 "cells": [
  {
   "cell_type": "code",
   "execution_count": 0,
   "metadata": {
    "ExecuteTime": {
     "end_time": "2025-07-19T10:25:17.371516Z",
     "start_time": "2025-07-19T10:25:17.368775Z"
    },
    "application/vnd.databricks.v1+cell": {
     "cellMetadata": {
      "byteLimit": 2048000,
      "rowLimit": 10000
     },
     "inputWidgets": {},
     "nuid": "ed6750a3-017b-405a-9eb2-9adce9885f9f",
     "showTitle": false,
     "tableResultSettingsMap": {},
     "title": ""
    }
   },
   "outputs": [],
   "source": [
    "# Parámetros del proyecto\n",
    "catalog = \"workspace\"\n",
    "schema = \"dataanalysispyspakbook\"\n",
    "volumes = [\"bronze_files\", \"bronze_delta\", \"silver\", \"gold\"]\n",
    "\n",
    "# Crear el esquema lógico (si no existe)\n",
    "spark.sql(f\"CREATE SCHEMA IF NOT EXISTS {catalog}.{schema}\")\n",
    "\n",
    "# Crear Volumes asociados a cada capa\n",
    "for layer in volumes:\n",
    "    try:\n",
    "        spark.sql(f\"\"\"\n",
    "            CREATE VOLUME IF NOT EXISTS {catalog}.{schema}.{layer}\n",
    "        \"\"\")\n",
    "        print(f\"✔ Volume '{layer}' creado.\")\n",
    "    except Exception as e:\n",
    "        print(f\"⚠ Error creando el volume '{layer}': {e}\")"
   ]
  }
 ],
 "metadata": {
  "application/vnd.databricks.v1+notebook": {
   "computePreferences": null,
   "dashboards": [],
   "environmentMetadata": {
    "base_environment": "",
    "environment_version": "2"
   },
   "inputWidgetPreferences": null,
   "language": "python",
   "notebookMetadata": {
    "mostRecentlyExecutedCommandWithImplicitDF": {
     "commandId": 5633496207761668,
     "dataframes": [
      "_sqldf"
     ]
    },
    "pythonIndentUnit": 4
   },
   "notebookName": "Create Volume",
   "widgets": {}
  },
  "language_info": {
   "name": "python"
  }
 },
 "nbformat": 4,
 "nbformat_minor": 0
}
