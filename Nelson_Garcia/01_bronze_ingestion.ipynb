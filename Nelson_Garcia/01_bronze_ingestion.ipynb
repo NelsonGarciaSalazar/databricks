{
 "cells": [
  {
   "cell_type": "markdown",
   "metadata": {
    "application/vnd.databricks.v1+cell": {
     "cellMetadata": {
      "byteLimit": 2048000,
      "rowLimit": 10000
     },
     "inputWidgets": {},
     "nuid": "b5622d40-e38d-44db-b65b-809c07743283",
     "showTitle": false,
     "tableResultSettingsMap": {},
     "title": ""
    }
   },
   "source": [
    "Inicialmente importamos las librerías para trabajar con PySpark"
   ]
  },
  {
   "cell_type": "code",
   "execution_count": 0,
   "metadata": {
    "application/vnd.databricks.v1+cell": {
     "cellMetadata": {
      "byteLimit": 2048000,
      "rowLimit": 10000
     },
     "inputWidgets": {},
     "nuid": "2bcff0c1-f900-4cbd-ba04-a78e8ba57029",
     "showTitle": false,
     "tableResultSettingsMap": {},
     "title": ""
    }
   },
   "outputs": [],
   "source": [
    "import pyspark.sql.functions as F\n",
    "from pyspark.sql.types import StructType, StructField, StringType, IntegerType, DoubleType, TimestampType\n",
    "from datetime import date"
   ]
  },
  {
   "cell_type": "code",
   "execution_count": 0,
   "metadata": {
    "application/vnd.databricks.v1+cell": {
     "cellMetadata": {
      "byteLimit": 2048000,
      "implicitDf": true,
      "rowLimit": 10000
     },
     "inputWidgets": {},
     "nuid": "70683fd9-c429-4abe-a124-9b993390f4e7",
     "showTitle": false,
     "tableResultSettingsMap": {},
     "title": ""
    }
   },
   "outputs": [],
   "source": [
    "%sql\n",
    "CREATE SCHEMA IF NOT EXISTS workspace.bronze;\n",
    "CREATE VOLUME IF NOT EXISTS workspace.default.test_volume;\n",
    "SHOW VOLUMES IN workspace.default;"
   ]
  },
  {
   "cell_type": "markdown",
   "metadata": {
    "application/vnd.databricks.v1+cell": {
     "cellMetadata": {
      "byteLimit": 2048000,
      "rowLimit": 10000
     },
     "inputWidgets": {},
     "nuid": "5a88d0b4-8625-494d-92f7-1390bef7f8e7",
     "showTitle": false,
     "tableResultSettingsMap": {},
     "title": ""
    }
   },
   "source": [
    "Leemos los archivos desde el volumen \"test_volume\" y creamos los dataframes para luegoi crear las tablas en el esquema bronze"
   ]
  },
  {
   "cell_type": "code",
   "execution_count": 0,
   "metadata": {
    "application/vnd.databricks.v1+cell": {
     "cellMetadata": {
      "byteLimit": 2048000,
      "rowLimit": 10000
     },
     "inputWidgets": {},
     "nuid": "6ab46d5a-2d62-4084-992a-256759877b8b",
     "showTitle": false,
     "tableResultSettingsMap": {},
     "title": ""
    }
   },
   "outputs": [],
   "source": [
    "path_files = \"/Volumes/workspace/default/test_volume/\"\n",
    "\n",
    "# Schema para empleados\n",
    "empleados_schema = StructType([\n",
    "    StructField(\"id_vendedor\", IntegerType(), True),\n",
    "    StructField(\"sucursal\", StringType(), True),\n",
    "    StructField(\"nombre\", StringType(), True)\n",
    "])\n",
    "\n",
    "df_empleados = (\n",
    "        spark.read.format(\"csv\")\n",
    "                  .option(\"header\", \"true\")\n",
    "                  .schema(empleados_schema)\n",
    "                  .load(path_files + \"empleados.csv\")\n",
    ")                  \n",
    "df_empleados.show()"
   ]
  },
  {
   "cell_type": "code",
   "execution_count": 0,
   "metadata": {
    "application/vnd.databricks.v1+cell": {
     "cellMetadata": {
      "byteLimit": 2048000,
      "rowLimit": 10000
     },
     "inputWidgets": {},
     "nuid": "a25d1e4c-7d4c-42ae-ae45-c9451482172a",
     "showTitle": false,
     "tableResultSettingsMap": {},
     "title": ""
    }
   },
   "outputs": [],
   "source": [
    "# Schema para fact\n",
    "fact_schema = StructType([\n",
    "    StructField(\"fecha_ventas\", StringType(), True),\n",
    "    StructField(\"sku\", IntegerType(), True),\n",
    "    StructField(\"id_vendedor\", IntegerType(), True),\n",
    "    StructField(\"cantidad\", IntegerType(), True)\n",
    "])\n",
    "\n",
    "df_fact = (\n",
    "        spark.read.format(\"csv\")\n",
    "                  .option(\"sep\", \";\")\n",
    "                  .option(\"header\", \"true\")\n",
    "                  .schema(fact_schema)\n",
    "                  .load(path_files + \"fact.csv\")\n",
    ")\n",
    "\n",
    "# Convertimos de string a DATE\n",
    "df_fact = df_fact.withColumn(\n",
    "    \"fecha_ventas\", F.to_date(F.col(\"fecha_ventas\"), \"d/M/yyyy\")\n",
    ")\n",
    "df_fact.show()"
   ]
  },
  {
   "cell_type": "code",
   "execution_count": 0,
   "metadata": {
    "application/vnd.databricks.v1+cell": {
     "cellMetadata": {
      "byteLimit": 2048000,
      "rowLimit": 10000
     },
     "inputWidgets": {},
     "nuid": "6047d398-3b0c-4ab9-8266-aefbbdd41fdf",
     "showTitle": false,
     "tableResultSettingsMap": {},
     "title": ""
    }
   },
   "outputs": [],
   "source": [
    "# Schema para locales\n",
    "locales_schema = StructType([\n",
    "    StructField(\"id_sucursal\", IntegerType(), True),\n",
    "    StructField(\"nombre\", StringType(), True),\n",
    "    StructField(\"tipo\", StringType(), True)\n",
    "])\n",
    "\n",
    "df_locales = (\n",
    "        spark.read.format(\"csv\")\n",
    "                  .option(\"sep\", \";\")\n",
    "                  .option(\"header\", \"true\")\n",
    "                  .schema(locales_schema)\n",
    "                  .load(path_files + \"locales.csv\")\n",
    ")                  \n",
    "df_locales.show()"
   ]
  },
  {
   "cell_type": "code",
   "execution_count": 0,
   "metadata": {
    "application/vnd.databricks.v1+cell": {
     "cellMetadata": {
      "byteLimit": 2048000,
      "rowLimit": 10000
     },
     "inputWidgets": {},
     "nuid": "1f5fc930-d826-469f-bc4d-3c9cdecbe848",
     "showTitle": false,
     "tableResultSettingsMap": {},
     "title": ""
    }
   },
   "outputs": [],
   "source": [
    "# Schema para producto\n",
    "producto_schema = StructType([\n",
    "    StructField(\"id_producto\", IntegerType(), True),\n",
    "    StructField(\"familia\", StringType(), True),\n",
    "    StructField(\"nombre\", StringType(), True),\n",
    "    StructField(\"precio_unitario\", DoubleType(), True)\n",
    "])\n",
    "\n",
    "df_producto = (\n",
    "        spark.read.format(\"csv\")\n",
    "                  .option(\"sep\", \";\")\n",
    "                  .option(\"header\", \"true\")\n",
    "                  .schema(producto_schema)\n",
    "                  .load(path_files + \"producto.csv\")\n",
    ")                  \n",
    "df_producto.show()"
   ]
  },
  {
   "cell_type": "markdown",
   "metadata": {
    "application/vnd.databricks.v1+cell": {
     "cellMetadata": {
      "byteLimit": 2048000,
      "rowLimit": 10000
     },
     "inputWidgets": {},
     "nuid": "d5770521-14bc-41af-a7cd-d7ea6cc53d6d",
     "showTitle": false,
     "tableResultSettingsMap": {},
     "title": ""
    }
   },
   "source": [
    "Creamos las tablas temporales"
   ]
  },
  {
   "cell_type": "code",
   "execution_count": 0,
   "metadata": {
    "application/vnd.databricks.v1+cell": {
     "cellMetadata": {
      "byteLimit": 2048000,
      "rowLimit": 10000
     },
     "inputWidgets": {},
     "nuid": "1d7b42e9-5cf0-42ad-a509-4923c93f5992",
     "showTitle": false,
     "tableResultSettingsMap": {},
     "title": ""
    }
   },
   "outputs": [],
   "source": [
    "df_empleados.createOrReplaceTempView(\"empleados\")\n",
    "df_fact.createOrReplaceTempView(\"fact\")\n",
    "df_locales.createOrReplaceTempView(\"locales\")\n",
    "df_producto.createOrReplaceTempView(\"producto\")"
   ]
  },
  {
   "cell_type": "markdown",
   "metadata": {
    "application/vnd.databricks.v1+cell": {
     "cellMetadata": {
      "byteLimit": 2048000,
      "rowLimit": 10000
     },
     "inputWidgets": {},
     "nuid": "7e945604-e76b-4114-9139-a48c02657cca",
     "showTitle": false,
     "tableResultSettingsMap": {},
     "title": ""
    }
   },
   "source": [
    "Crear tablas en el Metasktore (schema and bronze)"
   ]
  },
  {
   "cell_type": "code",
   "execution_count": 0,
   "metadata": {
    "application/vnd.databricks.v1+cell": {
     "cellMetadata": {
      "byteLimit": 2048000,
      "rowLimit": 10000
     },
     "inputWidgets": {},
     "nuid": "9b798317-53de-433e-8fae-2489be2a7e50",
     "showTitle": false,
     "tableResultSettingsMap": {},
     "title": ""
    }
   },
   "outputs": [],
   "source": [
    "bronze_table_empleados = \"bronze.raw_empleados\"\n",
    "\n",
    "spark.sql(f\"DROP TABLE IF EXISTS {bronze_table_empleados}\")\n",
    "spark.sql(f\"CREATE TABLE {bronze_table_empleados} AS SELECT * FROM empleados\")\n",
    "\n",
    "spark.sql(f\"SELECT * FROM {bronze_table_empleados}\").show()"
   ]
  },
  {
   "cell_type": "code",
   "execution_count": 0,
   "metadata": {
    "application/vnd.databricks.v1+cell": {
     "cellMetadata": {
      "byteLimit": 2048000,
      "rowLimit": 10000
     },
     "inputWidgets": {},
     "nuid": "88bab9e1-a085-46bc-9436-09627e638d95",
     "showTitle": false,
     "tableResultSettingsMap": {},
     "title": ""
    }
   },
   "outputs": [],
   "source": [
    "bronze_table_locales = \"bronze.raw_locales\"\n",
    "\n",
    "spark.sql(f\"DROP TABLE IF EXISTS {bronze_table_locales}\")\n",
    "spark.sql(f\"CREATE TABLE {bronze_table_locales} AS SELECT * FROM locales\")\n",
    "\n",
    "spark.sql(f\"SELECT * FROM {bronze_table_locales}\").show()"
   ]
  },
  {
   "cell_type": "code",
   "execution_count": 0,
   "metadata": {
    "application/vnd.databricks.v1+cell": {
     "cellMetadata": {
      "byteLimit": 2048000,
      "rowLimit": 10000
     },
     "inputWidgets": {},
     "nuid": "2e94a2d6-9505-414f-9120-bc1122fb114a",
     "showTitle": false,
     "tableResultSettingsMap": {},
     "title": ""
    }
   },
   "outputs": [],
   "source": [
    "bronze_table_fact = \"bronze.raw_fact\"\n",
    "\n",
    "spark.sql(f\"DROP TABLE IF EXISTS {bronze_table_fact}\")\n",
    "spark.sql(f\"CREATE TABLE {bronze_table_fact} AS SELECT * FROM fact\")\n",
    "\n",
    "spark.sql(f\"SELECT * FROM {bronze_table_fact}\").show()"
   ]
  },
  {
   "cell_type": "code",
   "execution_count": 0,
   "metadata": {
    "application/vnd.databricks.v1+cell": {
     "cellMetadata": {
      "byteLimit": 2048000,
      "rowLimit": 10000
     },
     "inputWidgets": {},
     "nuid": "a5725370-c6e3-4cb7-bcbd-780c089d5b37",
     "showTitle": false,
     "tableResultSettingsMap": {},
     "title": ""
    }
   },
   "outputs": [],
   "source": [
    "bronze_table_productos  = \"bronze.raw_productos\"\n",
    "\n",
    "spark.sql(f\"DROP TABLE IF EXISTS {bronze_table_productos }\")\n",
    "spark.sql(f\"CREATE TABLE {bronze_table_productos } AS SELECT * FROM producto\")\n",
    "\n",
    "spark.sql(f\"SELECT * FROM {bronze_table_productos }\").show()"
   ]
  },
  {
   "cell_type": "markdown",
   "metadata": {
    "application/vnd.databricks.v1+cell": {
     "cellMetadata": {
      "byteLimit": 2048000,
      "rowLimit": 10000
     },
     "inputWidgets": {},
     "nuid": "c5850723-2283-4c51-b189-4cac7d2d89c1",
     "showTitle": false,
     "tableResultSettingsMap": {},
     "title": ""
    }
   },
   "source": [
    "2. Validar con una consulta que se hayan cargado correctamente todos los registros de cada uno de los archivos."
   ]
  },
  {
   "cell_type": "code",
   "execution_count": 0,
   "metadata": {
    "application/vnd.databricks.v1+cell": {
     "cellMetadata": {
      "byteLimit": 2048000,
      "rowLimit": 10000
     },
     "inputWidgets": {},
     "nuid": "d9b2298a-b7a8-412c-9780-21462dbb7f6c",
     "showTitle": false,
     "tableResultSettingsMap": {},
     "title": ""
    }
   },
   "outputs": [],
   "source": [
    "# Empleados\n",
    "table = spark.table(\"bronze.raw_empleados\")\n",
    "\n",
    "# Diferencias en ambos sentidos\n",
    "diff = df_empleados.subtract(table).union(table.subtract(df_empleados))\n",
    "\n",
    "# Validación\n",
    "assert diff.count() == 0, \"❌ Hay diferencias entre el DataFrame y la tabla\"\n",
    "print(\"✅ Ambos tienen los mismos registros\")\n"
   ]
  },
  {
   "cell_type": "code",
   "execution_count": 0,
   "metadata": {
    "application/vnd.databricks.v1+cell": {
     "cellMetadata": {
      "byteLimit": 2048000,
      "rowLimit": 10000
     },
     "inputWidgets": {},
     "nuid": "1f7510e0-e834-4336-b5b5-003acf25b2ab",
     "showTitle": false,
     "tableResultSettingsMap": {},
     "title": ""
    }
   },
   "outputs": [],
   "source": [
    "# Locales\n",
    "table = spark.table(\"bronze.raw_locales \")\n",
    "\n",
    "# Diferencias en ambos sentidos\n",
    "diff = df_locales.subtract(table).union(table.subtract(df_locales))\n",
    "\n",
    "# Validación\n",
    "assert diff.count() == 0, \"❌ Hay diferencias entre el DataFrame y la tabla\"\n",
    "print(\"✅ Ambos tienen los mismos registros\")"
   ]
  },
  {
   "cell_type": "code",
   "execution_count": 0,
   "metadata": {
    "application/vnd.databricks.v1+cell": {
     "cellMetadata": {
      "byteLimit": 2048000,
      "rowLimit": 10000
     },
     "inputWidgets": {},
     "nuid": "0e0d0ffc-b4a9-47fd-a271-b4dba0cca376",
     "showTitle": false,
     "tableResultSettingsMap": {},
     "title": ""
    }
   },
   "outputs": [],
   "source": [
    "# fact \n",
    "table = spark.table(\"bronze.raw_fact \")\n",
    "\n",
    "# Diferencias en ambos sentidos\n",
    "diff = df_fact.subtract(table).union(table.subtract(df_fact))\n",
    "\n",
    "# Validación\n",
    "assert diff.count() == 0, \"❌ Hay diferencias entre el DataFrame y la tabla\"\n",
    "print(\"✅ Ambos tienen los mismos registros\")"
   ]
  },
  {
   "cell_type": "code",
   "execution_count": 0,
   "metadata": {
    "application/vnd.databricks.v1+cell": {
     "cellMetadata": {
      "byteLimit": 2048000,
      "rowLimit": 10000
     },
     "inputWidgets": {},
     "nuid": "5c0ad3b2-9b1b-4e16-aa0e-b3ee5bc3467e",
     "showTitle": false,
     "tableResultSettingsMap": {},
     "title": ""
    }
   },
   "outputs": [],
   "source": [
    "# productos \n",
    "table = spark.table(\"bronze.raw_productos \")\n",
    "\n",
    "# Diferencias en ambos sentidos\n",
    "diff = df_producto.subtract(table).union(table.subtract(df_producto))\n",
    "\n",
    "# Validación\n",
    "assert diff.count() == 0, \"❌ Hay diferencias entre el DataFrame y la tabla\"\n",
    "print(\"✅ Ambos tienen los mismos registros\")"
   ]
  }
 ],
 "metadata": {
  "application/vnd.databricks.v1+notebook": {
   "computePreferences": {
    "hardware": {
     "accelerator": null,
     "gpuPoolId": null,
     "memory": null
    }
   },
   "dashboards": [],
   "environmentMetadata": {
    "base_environment": "",
    "environment_version": "3"
   },
   "inputWidgetPreferences": null,
   "language": "python",
   "notebookMetadata": {
    "mostRecentlyExecutedCommandWithImplicitDF": {
     "commandId": 7362184664885475,
     "dataframes": [
      "_sqldf"
     ]
    },
    "pythonIndentUnit": 4
   },
   "notebookName": "01_bronze_ingestion",
   "widgets": {}
  },
  "language_info": {
   "name": "python"
  }
 },
 "nbformat": 4,
 "nbformat_minor": 0
}
