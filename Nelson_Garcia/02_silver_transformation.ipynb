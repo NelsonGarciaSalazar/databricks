{
 "cells": [
  {
   "cell_type": "markdown",
   "metadata": {
    "application/vnd.databricks.v1+cell": {
     "cellMetadata": {},
     "inputWidgets": {},
     "nuid": "f1a45204-528a-4feb-8714-e3b2868e64ae",
     "showTitle": false,
     "tableResultSettingsMap": {},
     "title": ""
    }
   },
   "source": [
    "1. Validar la integridad referencial de los datos: registros de hechos (raw_fact) que no coincidan con sus dimensiones (raw_empleados, raw_productos, raw_locales)."
   ]
  },
  {
   "cell_type": "code",
   "execution_count": 0,
   "metadata": {
    "application/vnd.databricks.v1+cell": {
     "cellMetadata": {
      "byteLimit": 2048000,
      "implicitDf": true,
      "rowLimit": 10000
     },
     "inputWidgets": {},
     "nuid": "90388403-ba6b-42b3-a9c7-35170c02fad5",
     "showTitle": false,
     "tableResultSettingsMap": {},
     "title": ""
    }
   },
   "outputs": [],
   "source": [
    "%sql\n",
    "SELECT \n",
    "    f.fecha_ventas,\n",
    "    f.sku,\n",
    "    f.id_vendedor,\n",
    "    f.cantidad,\n",
    "    e.id_vendedor AS existe_empleado,\n",
    "    p.id_producto AS existe_producto,\n",
    "    l.id_sucursal AS existe_sucursal\n",
    "FROM bronze.raw_fact f\n",
    "LEFT JOIN bronze.raw_empleados e\n",
    "    ON f.id_vendedor = e.id_vendedor\n",
    "LEFT JOIN bronze.raw_productos p\n",
    "    ON f.sku = p.id_producto\n",
    "LEFT JOIN bronze.raw_locales l\n",
    "    ON e.sucursal = l.id_sucursal\n",
    "WHERE e.id_vendedor IS NULL\n",
    "   OR p.id_producto IS NULL\n",
    "   OR l.id_sucursal IS NULL;\n"
   ]
  },
  {
   "cell_type": "markdown",
   "metadata": {
    "application/vnd.databricks.v1+cell": {
     "cellMetadata": {},
     "inputWidgets": {},
     "nuid": "84e1892b-a164-4bf4-9fc2-6677598aacbf",
     "showTitle": false,
     "tableResultSettingsMap": {},
     "title": ""
    }
   },
   "source": [
    "2.\n",
    "Crear un esquema llamado “silver \" en el catálogo “workspace”, crear dos tablas delta llamadas:\n",
    "a.\n",
    "“dim_vendedor” - Que unifique la información de vendedor con la de locales. La tabla debe tener las columnas:\n",
    "i.\n",
    "Id_vendedor\n",
    "ii.\n",
    "vendedor_nombre\n",
    "iii.\n",
    "sucursal_nombre"
   ]
  },
  {
   "cell_type": "code",
   "execution_count": 0,
   "metadata": {
    "application/vnd.databricks.v1+cell": {
     "cellMetadata": {
      "byteLimit": 2048000,
      "implicitDf": true,
      "rowLimit": 10000
     },
     "inputWidgets": {},
     "nuid": "07b16cb0-fbaa-4cb7-8021-22f23e23dfeb",
     "showTitle": false,
     "tableResultSettingsMap": {},
     "title": ""
    }
   },
   "outputs": [],
   "source": [
    "%sql\n",
    "CREATE SCHEMA IF NOT EXISTS workspace.silver;"
   ]
  },
  {
   "cell_type": "code",
   "execution_count": 0,
   "metadata": {
    "application/vnd.databricks.v1+cell": {
     "cellMetadata": {
      "byteLimit": 2048000,
      "implicitDf": true,
      "rowLimit": 10000
     },
     "inputWidgets": {},
     "nuid": "83c479b6-9517-42a5-9845-efbdc9b3b47b",
     "showTitle": false,
     "tableResultSettingsMap": {},
     "title": ""
    }
   },
   "outputs": [],
   "source": [
    "%sql\n",
    "CREATE OR REPLACE TABLE workspace.silver.dim_vendedor AS\n",
    "SELECT \n",
    "    e.id_vendedor,\n",
    "    e.nombre AS vendedor_nombre,\n",
    "    l.nombre AS sucursal_nombre\n",
    "FROM bronze.raw_empleados e\n",
    "LEFT JOIN bronze.raw_locales l\n",
    "    ON e.sucursal = l.id_sucursal;\n"
   ]
  },
  {
   "cell_type": "code",
   "execution_count": 0,
   "metadata": {
    "application/vnd.databricks.v1+cell": {
     "cellMetadata": {
      "byteLimit": 2048000,
      "implicitDf": true,
      "rowLimit": 10000
     },
     "inputWidgets": {},
     "nuid": "23765588-a4f3-4f5f-92e2-2764eecd10a3",
     "showTitle": false,
     "tableResultSettingsMap": {},
     "title": ""
    }
   },
   "outputs": [],
   "source": [
    "%sql\n",
    "SELECT *\n",
    "FROM workspace.silver.dim_vendedor\n",
    "LIMIT 20;"
   ]
  },
  {
   "cell_type": "markdown",
   "metadata": {
    "application/vnd.databricks.v1+cell": {
     "cellMetadata": {},
     "inputWidgets": {},
     "nuid": "80bdb2f1-62e5-4e0a-b692-a210f02d1e38",
     "showTitle": false,
     "tableResultSettingsMap": {},
     "title": ""
    }
   },
   "source": [
    "b.\n",
    "“dim_producto” – respetando la estructura la tabla equivalente (raw_productos)."
   ]
  },
  {
   "cell_type": "code",
   "execution_count": 0,
   "metadata": {
    "application/vnd.databricks.v1+cell": {
     "cellMetadata": {
      "byteLimit": 2048000,
      "implicitDf": true,
      "rowLimit": 10000
     },
     "inputWidgets": {},
     "nuid": "4c81786e-f489-4e4f-bfd4-3b8c1978d770",
     "showTitle": false,
     "tableResultSettingsMap": {},
     "title": ""
    }
   },
   "outputs": [],
   "source": [
    "%sql\n",
    "CREATE OR REPLACE TABLE workspace.silver.dim_producto AS\n",
    "SELECT \n",
    "    id_producto,\n",
    "    familia,\n",
    "    nombre,\n",
    "    precio_unitario\n",
    "FROM bronze.raw_productos;\n"
   ]
  },
  {
   "cell_type": "code",
   "execution_count": 0,
   "metadata": {
    "application/vnd.databricks.v1+cell": {
     "cellMetadata": {
      "byteLimit": 2048000,
      "implicitDf": true,
      "rowLimit": 10000
     },
     "inputWidgets": {},
     "nuid": "2c1f309e-eae6-47ad-8487-3c31b6a9c856",
     "showTitle": false,
     "tableResultSettingsMap": {},
     "title": ""
    }
   },
   "outputs": [],
   "source": [
    "%sql\n",
    "SELECT *\n",
    "FROM workspace.silver.dim_producto\n",
    "LIMIT 20;"
   ]
  },
  {
   "cell_type": "markdown",
   "metadata": {
    "application/vnd.databricks.v1+cell": {
     "cellMetadata": {},
     "inputWidgets": {},
     "nuid": "722ffcbc-7035-40a4-b854-50e94101eb55",
     "showTitle": false,
     "tableResultSettingsMap": {},
     "title": ""
    }
   },
   "source": [
    "3.\n",
    "Crear una tabla delta llamada “fact_ventas” asegurando:\n",
    "a.\n",
    "Integridad referencial entre la Fact y las dimensiones.\n",
    "b.\n",
    "Separar la fecha en los campos: dia, mes, ano"
   ]
  },
  {
   "cell_type": "code",
   "execution_count": 0,
   "metadata": {
    "application/vnd.databricks.v1+cell": {
     "cellMetadata": {
      "byteLimit": 2048000,
      "implicitDf": true,
      "rowLimit": 10000
     },
     "inputWidgets": {},
     "nuid": "b4063146-c54c-408b-a60d-599acd68187a",
     "showTitle": false,
     "tableResultSettingsMap": {},
     "title": ""
    }
   },
   "outputs": [],
   "source": [
    "%sql\n",
    "CREATE OR REPLACE TABLE workspace.silver.fact_ventas AS\n",
    "SELECT\n",
    "    f.id_vendedor,\n",
    "    f.sku        AS id_producto,\n",
    "    f.cantidad,\n",
    "    -- Descomposición de la fecha\n",
    "    DAY(f.fecha_ventas)   AS dia,\n",
    "    MONTH(f.fecha_ventas) AS mes,\n",
    "    YEAR(f.fecha_ventas)  AS ano\n",
    "FROM bronze.raw_fact f\n",
    "INNER JOIN workspace.silver.dim_vendedor v\n",
    "    ON f.id_vendedor = v.id_vendedor\n",
    "INNER JOIN workspace.silver.dim_producto p\n",
    "    ON f.sku = p.id_producto;\n"
   ]
  },
  {
   "cell_type": "code",
   "execution_count": 0,
   "metadata": {
    "application/vnd.databricks.v1+cell": {
     "cellMetadata": {
      "byteLimit": 2048000,
      "implicitDf": true,
      "rowLimit": 10000
     },
     "inputWidgets": {},
     "nuid": "af7ef4f4-4b21-497b-b467-6885d0c408e2",
     "showTitle": false,
     "tableResultSettingsMap": {},
     "title": ""
    }
   },
   "outputs": [],
   "source": [
    "%sql\n",
    "SELECT *\n",
    "FROM workspace.silver.fact_ventas\n",
    "LIMIT 20;"
   ]
  }
 ],
 "metadata": {
  "application/vnd.databricks.v1+notebook": {
   "computePreferences": null,
   "dashboards": [],
   "environmentMetadata": {
    "base_environment": "",
    "environment_version": "3"
   },
   "inputWidgetPreferences": null,
   "language": "python",
   "notebookMetadata": {
    "mostRecentlyExecutedCommandWithImplicitDF": {
     "commandId": 7362184664885453,
     "dataframes": [
      "_sqldf"
     ]
    },
    "pythonIndentUnit": 4
   },
   "notebookName": "02_silver_transformation",
   "widgets": {}
  },
  "language_info": {
   "name": "python"
  }
 },
 "nbformat": 4,
 "nbformat_minor": 0
}
