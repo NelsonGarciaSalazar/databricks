{
 "cells": [
  {
   "cell_type": "markdown",
   "metadata": {
    "application/vnd.databricks.v1+cell": {
     "cellMetadata": {},
     "inputWidgets": {},
     "nuid": "62c528d3-d371-4c3e-9539-63a66073f96f",
     "showTitle": false,
     "tableResultSettingsMap": {},
     "title": ""
    }
   },
   "source": [
    "1. Crear la tabla delta “fact_ventas_final”: a. Particionada por el campo “mes”. b. Incluir el campo “monto_total” resolviendo el cálculo entre la cantidad del producto vendido y su precio unitario (tomar las dimensiones creadas)."
   ]
  },
  {
   "cell_type": "code",
   "execution_count": 0,
   "metadata": {
    "application/vnd.databricks.v1+cell": {
     "cellMetadata": {
      "byteLimit": 2048000,
      "implicitDf": true,
      "rowLimit": 10000
     },
     "inputWidgets": {},
     "nuid": "846cd238-988e-4ad6-87c0-08d022bc22f6",
     "showTitle": false,
     "tableResultSettingsMap": {},
     "title": ""
    }
   },
   "outputs": [],
   "source": [
    "%sql\n",
    "CREATE SCHEMA IF NOT EXISTS workspace.gold;\n"
   ]
  },
  {
   "cell_type": "code",
   "execution_count": 0,
   "metadata": {
    "application/vnd.databricks.v1+cell": {
     "cellMetadata": {
      "byteLimit": 2048000,
      "implicitDf": true,
      "rowLimit": 10000
     },
     "inputWidgets": {},
     "nuid": "52e1277d-b888-4daa-950e-8e0ea2a55e77",
     "showTitle": false,
     "tableResultSettingsMap": {},
     "title": ""
    }
   },
   "outputs": [],
   "source": [
    "%sql\n",
    "CREATE OR REPLACE TABLE workspace.gold.fact_ventas_final\n",
    "PARTITIONED BY (mes)\n",
    "AS\n",
    "SELECT\n",
    "    f.id_vendedor,\n",
    "    v.vendedor_nombre,\n",
    "    v.sucursal_nombre,\n",
    "    f.id_producto,\n",
    "    p.nombre AS producto_nombre,\n",
    "    f.cantidad,\n",
    "    f.dia,\n",
    "    f.mes,\n",
    "    f.ano,\n",
    "    p.precio_unitario,\n",
    "    (f.cantidad * p.precio_unitario) AS monto_total\n",
    "FROM workspace.silver.fact_ventas f\n",
    "INNER JOIN workspace.silver.dim_vendedor v\n",
    "    ON f.id_vendedor = v.id_vendedor\n",
    "INNER JOIN workspace.silver.dim_producto p\n",
    "    ON f.id_producto = p.id_producto;\n"
   ]
  },
  {
   "cell_type": "code",
   "execution_count": 0,
   "metadata": {
    "application/vnd.databricks.v1+cell": {
     "cellMetadata": {
      "byteLimit": 2048000,
      "implicitDf": true,
      "rowLimit": 10000
     },
     "inputWidgets": {},
     "nuid": "e0929a06-c1a6-44de-8c07-bb298337bc9c",
     "showTitle": false,
     "tableResultSettingsMap": {},
     "title": ""
    }
   },
   "outputs": [],
   "source": [
    "%sql\n",
    "SELECT * \n",
    "FROM workspace.gold.fact_ventas_final\n",
    "LIMIT 20;\n"
   ]
  },
  {
   "cell_type": "markdown",
   "metadata": {
    "application/vnd.databricks.v1+cell": {
     "cellMetadata": {},
     "inputWidgets": {},
     "nuid": "bb98f865-efb5-4ad7-8b3c-96fa14879263",
     "showTitle": false,
     "tableResultSettingsMap": {},
     "title": ""
    }
   },
   "source": [
    "2.\n",
    "Truncar la partición de diciembre."
   ]
  },
  {
   "cell_type": "code",
   "execution_count": 0,
   "metadata": {
    "application/vnd.databricks.v1+cell": {
     "cellMetadata": {
      "byteLimit": 2048000,
      "implicitDf": true,
      "rowLimit": 10000
     },
     "inputWidgets": {},
     "nuid": "0491259a-a480-461a-81c0-36a6fd3ec2c3",
     "showTitle": false,
     "tableResultSettingsMap": {},
     "title": ""
    }
   },
   "outputs": [],
   "source": [
    "%sql\n",
    "DELETE FROM workspace.gold.fact_ventas_final\n",
    "WHERE mes = 12;"
   ]
  },
  {
   "cell_type": "code",
   "execution_count": 0,
   "metadata": {
    "application/vnd.databricks.v1+cell": {
     "cellMetadata": {
      "byteLimit": 2048000,
      "implicitDf": true,
      "rowLimit": 10000
     },
     "inputWidgets": {},
     "nuid": "0a9b582e-ba35-438c-a2f6-b76537582a05",
     "showTitle": false,
     "tableResultSettingsMap": {},
     "title": ""
    }
   },
   "outputs": [],
   "source": [
    "%sql\n",
    "SELECT COUNT(*) AS registros_diciembre\n",
    "FROM workspace.gold.fact_ventas_final\n",
    "WHERE mes = 12;"
   ]
  },
  {
   "cell_type": "markdown",
   "metadata": {
    "application/vnd.databricks.v1+cell": {
     "cellMetadata": {},
     "inputWidgets": {},
     "nuid": "2c52cecd-a21b-4239-a97e-e9cef4abf797",
     "showTitle": false,
     "tableResultSettingsMap": {},
     "title": ""
    }
   },
   "source": [
    "3.\n",
    "Actualizar la tabla descontando el 10% a la columna “monto_total” para el mes de junio."
   ]
  },
  {
   "cell_type": "code",
   "execution_count": 0,
   "metadata": {
    "application/vnd.databricks.v1+cell": {
     "cellMetadata": {
      "byteLimit": 2048000,
      "implicitDf": true,
      "rowLimit": 10000
     },
     "inputWidgets": {},
     "nuid": "41ce7398-9df0-4288-a773-9a32dc0e180f",
     "showTitle": false,
     "tableResultSettingsMap": {},
     "title": ""
    }
   },
   "outputs": [],
   "source": [
    "%sql\n",
    "UPDATE workspace.gold.fact_ventas_final\n",
    "SET monto_total = monto_total * 0.9\n",
    "WHERE mes = 6;"
   ]
  },
  {
   "cell_type": "code",
   "execution_count": 0,
   "metadata": {
    "application/vnd.databricks.v1+cell": {
     "cellMetadata": {
      "byteLimit": 2048000,
      "implicitDf": true,
      "rowLimit": 10000
     },
     "inputWidgets": {},
     "nuid": "8e27c241-b04e-45e5-ba8b-cb5ed7bad360",
     "showTitle": false,
     "tableResultSettingsMap": {},
     "title": ""
    }
   },
   "outputs": [],
   "source": [
    "%sql\n",
    "SELECT * \n",
    "FROM workspace.gold.fact_ventas_final \n",
    "WHERE mes = 6\n",
    "limit 10"
   ]
  },
  {
   "cell_type": "code",
   "execution_count": 0,
   "metadata": {
    "application/vnd.databricks.v1+cell": {
     "cellMetadata": {
      "byteLimit": 2048000,
      "implicitDf": true,
      "rowLimit": 10000
     },
     "inputWidgets": {},
     "nuid": "bbc14988-52da-49a8-8bcb-b0efbb384136",
     "showTitle": false,
     "tableResultSettingsMap": {},
     "title": ""
    }
   },
   "outputs": [],
   "source": [
    "%sql\n",
    "SELECT \n",
    "    mes,\n",
    "    AVG(monto_total) AS monto_total_promedio,\n",
    "    MIN(monto_total) AS monto_total_min,\n",
    "    MAX(monto_total) AS monto_total_max\n",
    "FROM workspace.gold.fact_ventas_final\n",
    "WHERE mes = 6\n",
    "GROUP BY mes;\n"
   ]
  },
  {
   "cell_type": "markdown",
   "metadata": {
    "application/vnd.databricks.v1+cell": {
     "cellMetadata": {},
     "inputWidgets": {},
     "nuid": "a6f1dde9-e5f1-4fee-b8da-f4779331a542",
     "showTitle": false,
     "tableResultSettingsMap": {},
     "title": ""
    }
   },
   "source": [
    "4.\n",
    "Resolver las siguientes consultas"
   ]
  },
  {
   "cell_type": "code",
   "execution_count": 0,
   "metadata": {
    "application/vnd.databricks.v1+cell": {
     "cellMetadata": {
      "byteLimit": 2048000,
      "implicitDf": true,
      "rowLimit": 10000
     },
     "inputWidgets": {},
     "nuid": "d8e393c0-18fa-434f-bd10-fddc0959ced9",
     "showTitle": false,
     "tableResultSettingsMap": {
      "0": {
       "dataGridStateBlob": "{\"version\":1,\"tableState\":{\"columnPinning\":{\"left\":[\"#row_number#\"],\"right\":[]},\"columnSizing\":{},\"columnVisibility\":{}},\"settings\":{\"columns\":{}},\"syncTimestamp\":1757093078895}",
       "filterBlob": null,
       "queryPlanFiltersBlob": null,
       "tableResultIndex": 0
      }
     },
     "title": ""
    }
   },
   "outputs": [],
   "source": [
    "%sql\n",
    "-- a.Top-10 de sucursales según monto vendido ordenado de mayor a menor. Debe tener ambas columnas.\n",
    "SELECT \n",
    "    sucursal_nombre,\n",
    "    round(SUM(monto_total),0) AS total_vendido\n",
    "FROM workspace.gold.fact_ventas_final\n",
    "GROUP BY sucursal_nombre\n",
    "ORDER BY total_vendido DESC\n",
    "LIMIT 10;\n"
   ]
  },
  {
   "cell_type": "markdown",
   "metadata": {
    "application/vnd.databricks.v1+cell": {
     "cellMetadata": {},
     "inputWidgets": {},
     "nuid": "ee473a80-a1e6-4000-a739-8e32873dc0b2",
     "showTitle": false,
     "tableResultSettingsMap": {},
     "title": ""
    }
   },
   "source": [
    "b.\n",
    "Mejores vendedores con detalle de top 3 de productos"
   ]
  },
  {
   "cell_type": "code",
   "execution_count": 0,
   "metadata": {
    "application/vnd.databricks.v1+cell": {
     "cellMetadata": {
      "byteLimit": 2048000,
      "implicitDf": true,
      "rowLimit": 10000
     },
     "inputWidgets": {},
     "nuid": "d4c6da06-ec68-48a6-a8bd-def6f9ede3b0",
     "showTitle": false,
     "tableResultSettingsMap": {},
     "title": ""
    }
   },
   "outputs": [],
   "source": [
    "%sql\n",
    "-- i.Listado ordenado de mayor a menor con los mejores vendedores por “monto_total”.\n",
    "SELECT \n",
    "    id_vendedor,\n",
    "    vendedor_nombre,\n",
    "    round(SUM(monto_total),0) AS total_vendido\n",
    "FROM workspace.gold.fact_ventas_final\n",
    "GROUP BY id_vendedor, vendedor_nombre\n",
    "ORDER BY total_vendido DESC;\n"
   ]
  },
  {
   "cell_type": "code",
   "execution_count": 0,
   "metadata": {
    "application/vnd.databricks.v1+cell": {
     "cellMetadata": {
      "byteLimit": 2048000,
      "implicitDf": true,
      "rowLimit": 10000
     },
     "inputWidgets": {},
     "nuid": "894c960a-3aa5-42a3-82bc-1279b902f827",
     "showTitle": false,
     "tableResultSettingsMap": {},
     "title": ""
    }
   },
   "outputs": [],
   "source": [
    "%sql\n",
    "-- ii.Agregar los 3 productos más vendidos por cada uno con sus cantidades correspondientes.\n",
    "WITH ventas_producto AS (\n",
    "    SELECT\n",
    "        id_vendedor,\n",
    "        vendedor_nombre,\n",
    "        id_producto,\n",
    "        producto_nombre,\n",
    "        SUM(cantidad) AS total_cantidad,\n",
    "        SUM(monto_total) AS total_monto,\n",
    "        ROW_NUMBER() OVER (\n",
    "            PARTITION BY id_vendedor\n",
    "            ORDER BY SUM(monto_total) DESC\n",
    "        ) AS rn\n",
    "    FROM workspace.gold.fact_ventas_final\n",
    "    GROUP BY id_vendedor, vendedor_nombre, id_producto, producto_nombre\n",
    ")\n",
    "SELECT \n",
    "    id_vendedor,\n",
    "    vendedor_nombre,\n",
    "    id_producto,\n",
    "    producto_nombre,\n",
    "    total_cantidad,\n",
    "    total_monto\n",
    "FROM ventas_producto\n",
    "WHERE rn <= 3\n",
    "ORDER BY id_vendedor, total_monto DESC;\n"
   ]
  },
  {
   "cell_type": "code",
   "execution_count": 0,
   "metadata": {
    "application/vnd.databricks.v1+cell": {
     "cellMetadata": {
      "byteLimit": 2048000,
      "implicitDf": true,
      "rowLimit": 10000
     },
     "inputWidgets": {},
     "nuid": "04fe0c96-bec5-41ed-9296-dc51ec7726c5",
     "showTitle": false,
     "tableResultSettingsMap": {},
     "title": ""
    }
   },
   "outputs": [],
   "source": [
    "%sql\n",
    "-- c) Peores 3 sucursales (menor monto vendido)\n",
    "SELECT \n",
    "    sucursal_nombre,\n",
    "    round(SUM(monto_total),0) AS total_vendido\n",
    "FROM workspace.gold.fact_ventas_final\n",
    "GROUP BY sucursal_nombre\n",
    "ORDER BY total_vendido ASC\n",
    "LIMIT 3;\n"
   ]
  },
  {
   "cell_type": "markdown",
   "metadata": {
    "application/vnd.databricks.v1+cell": {
     "cellMetadata": {},
     "inputWidgets": {},
     "nuid": "5d3b90d9-8198-4744-8b13-3a8cf4960e34",
     "showTitle": false,
     "tableResultSettingsMap": {},
     "title": ""
    }
   },
   "source": [
    "5.\n",
    "Consultar el historial de versiones de la tabla"
   ]
  },
  {
   "cell_type": "code",
   "execution_count": 0,
   "metadata": {
    "application/vnd.databricks.v1+cell": {
     "cellMetadata": {
      "byteLimit": 2048000,
      "implicitDf": true,
      "rowLimit": 10000
     },
     "inputWidgets": {},
     "nuid": "8e457e69-631d-427e-b50a-fe406a0136ec",
     "showTitle": false,
     "tableResultSettingsMap": {},
     "title": ""
    }
   },
   "outputs": [],
   "source": [
    "%sql\n",
    "DESCRIBE HISTORY workspace.gold.fact_ventas_final;\n"
   ]
  },
  {
   "cell_type": "code",
   "execution_count": 0,
   "metadata": {
    "application/vnd.databricks.v1+cell": {
     "cellMetadata": {
      "byteLimit": 2048000,
      "implicitDf": true,
      "rowLimit": 10000
     },
     "inputWidgets": {},
     "nuid": "a79705b2-a767-4eaf-adc3-295da7ea3317",
     "showTitle": false,
     "tableResultSettingsMap": {},
     "title": ""
    }
   },
   "outputs": [],
   "source": [
    "%sql\n",
    "SELECT * \n",
    "FROM workspace.gold.fact_ventas_final TIMESTAMP AS OF '2025-09-05T16:39:24Z';\n",
    "\n"
   ]
  },
  {
   "cell_type": "markdown",
   "metadata": {
    "application/vnd.databricks.v1+cell": {
     "cellMetadata": {},
     "inputWidgets": {},
     "nuid": "a34c6f3f-d904-4bb7-a192-77c7a4caa181",
     "showTitle": false,
     "tableResultSettingsMap": {},
     "title": ""
    }
   },
   "source": [
    "6.\n",
    "Restaurar la tabla a la versión original (0)"
   ]
  },
  {
   "cell_type": "code",
   "execution_count": 0,
   "metadata": {
    "application/vnd.databricks.v1+cell": {
     "cellMetadata": {
      "byteLimit": 2048000,
      "implicitDf": true,
      "rowLimit": 10000
     },
     "inputWidgets": {},
     "nuid": "03aaa53a-95be-4a86-a21f-071721ba4b4e",
     "showTitle": false,
     "tableResultSettingsMap": {},
     "title": ""
    }
   },
   "outputs": [],
   "source": [
    "%sql\n",
    "RESTORE TABLE workspace.gold.fact_ventas_final TO VERSION AS OF 0;"
   ]
  },
  {
   "cell_type": "code",
   "execution_count": 0,
   "metadata": {
    "application/vnd.databricks.v1+cell": {
     "cellMetadata": {
      "byteLimit": 2048000,
      "implicitDf": true,
      "rowLimit": 10000
     },
     "inputWidgets": {},
     "nuid": "dd1a0ec8-05da-420a-ae5b-eb6dfd08da56",
     "showTitle": false,
     "tableResultSettingsMap": {},
     "title": ""
    }
   },
   "outputs": [],
   "source": [
    "%sql\n",
    "DESCRIBE HISTORY workspace.gold.fact_ventas_final;"
   ]
  },
  {
   "cell_type": "code",
   "execution_count": 0,
   "metadata": {
    "application/vnd.databricks.v1+cell": {
     "cellMetadata": {
      "byteLimit": 2048000,
      "implicitDf": true,
      "rowLimit": 10000
     },
     "inputWidgets": {},
     "nuid": "c3311d0e-f227-43fc-bbdf-7695da55292f",
     "showTitle": false,
     "tableResultSettingsMap": {},
     "title": ""
    }
   },
   "outputs": [],
   "source": [
    "%sql\n",
    "SELECT * \n",
    "FROM workspace.gold.fact_ventas_final\n",
    "LIMIT 20;\n"
   ]
  }
 ],
 "metadata": {
  "application/vnd.databricks.v1+notebook": {
   "computePreferences": null,
   "dashboards": [],
   "environmentMetadata": {
    "base_environment": "",
    "environment_version": "3"
   },
   "inputWidgetPreferences": null,
   "language": "python",
   "notebookMetadata": {
    "mostRecentlyExecutedCommandWithImplicitDF": {
     "commandId": 7362184664885474,
     "dataframes": [
      "_sqldf"
     ]
    },
    "pythonIndentUnit": 4
   },
   "notebookName": "03_gold_aggregations",
   "widgets": {}
  },
  "language_info": {
   "name": "python"
  }
 },
 "nbformat": 4,
 "nbformat_minor": 0
}
