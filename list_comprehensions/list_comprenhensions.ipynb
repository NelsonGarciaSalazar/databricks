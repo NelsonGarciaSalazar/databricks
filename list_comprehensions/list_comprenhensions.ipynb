{
 "cells": [
  {
   "metadata": {},
   "cell_type": "markdown",
   "source": [
    "### List Comprehensions\n",
    "En esencia no son más que iteraciones sobre listas.\n",
    "\n",
    "Versión sin comprensión de listas:\n",
    "python\n",
    "\n",
    "```\n",
    "to_delete = []\n",
    "for col in df.columns:\n",
    "    if \"ID\" in col:\n",
    "        to_delete.append(col)\n",
    "df = df.drop(*to_delete)\n",
    "```\n",
    "\n",
    "Se crea una lista vacía to_delete.\n",
    "\n",
    "Se recorre cada nombre de columna en df.columns.\n",
    "\n",
    "Si \"ID\" está presente en el nombre de la columna, se agrega a to_delete.\n",
    "\n",
    "Finalmente, se eliminan esas columnas del DataFrame con df.drop(*to_delete).\n",
    "\n",
    "Versión con comprensión de listas:\n",
    "python\n",
    "\n",
    "```\n",
    "df = df.drop(*[col for col in df.columns if \"ID\" in col])\n",
    "```\n",
    "\n",
    "Esta línea hace exactamente lo mismo, pero de forma más concisa: crea una lista de columnas que contienen \"ID\" y las elimina directamente.\n",
    "\n",
    "Objetivo del código\n",
    "Eliminar columnas cuyo nombre incluye \"ID\" del DataFrame, útil para limpiar datos o excluir identificadores antes de un análisis."
   ],
   "id": "30da37aaebd74e0b"
  },
  {
   "metadata": {},
   "cell_type": "code",
   "outputs": [],
   "execution_count": null,
   "source": "",
   "id": "177e5ce5fc0bec25"
  }
 ],
 "metadata": {
  "kernelspec": {
   "display_name": "Python 3",
   "language": "python",
   "name": "python3"
  },
  "language_info": {
   "codemirror_mode": {
    "name": "ipython",
    "version": 2
   },
   "file_extension": ".py",
   "mimetype": "text/x-python",
   "name": "python",
   "nbconvert_exporter": "python",
   "pygments_lexer": "ipython2",
   "version": "2.7.6"
  }
 },
 "nbformat": 4,
 "nbformat_minor": 5
}
